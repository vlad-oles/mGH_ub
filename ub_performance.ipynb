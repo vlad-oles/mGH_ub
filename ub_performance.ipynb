{
 "cells": [
  {
   "cell_type": "code",
   "execution_count": 4,
   "metadata": {},
   "outputs": [],
   "source": [
    "import networkx as nx\n",
    "import numpy as np\n",
    "from itertools import permutations, product\n",
    "from functools import partial\n",
    "import scipy.sparse as sps\n",
    "import scipy.linalg as la\n",
    "from scipy.optimize import minimize, linear_sum_assignment, LinearConstraint, Bounds\n",
    "import sys\n",
    "import time\n",
    "import importlib\n",
    "\n",
    "sys.path.insert(1, '/home/me/mGH_UB')\n",
    "importlib.reload(sys.modules['ub'])\n",
    "from ub import *\n",
    "from tools import *\n",
    "from MCMC import sample_points\n",
    "sys.path.insert(1, '/home/me/persim-fork/persim')\n",
    "from gromov_hausdorff import estimate, find_lb, find_ub, find_ub_of_min_distortion"
   ]
  },
  {
   "cell_type": "code",
   "execution_count": 2,
   "metadata": {},
   "outputs": [
    {
     "name": "stdout",
     "output_type": "stream",
     "text": [
      "diam 2.4±0.1\n"
     ]
    }
   ],
   "source": [
    "rng = np.random.RandomState(0)\n",
    "\n",
    "n = 100\n",
    "size = 20\n",
    "space_type = 'eucl'\n",
    "D1s = []\n",
    "D2s = []\n",
    "for _ in range(n):\n",
    "    if space_type == 'graph':\n",
    "        _, D1 = gen_graph(size, .05, enforce_n=False, seed=rng)\n",
    "    elif space_type == 'eucl':\n",
    "        D1 = gen_eucl_X(size, rnd=rng)\n",
    "    else:\n",
    "        print(f'unknown space type {space_type}')\n",
    "        break\n",
    "        \n",
    "    pi = rng.permutation(len(D1))\n",
    "    D2 = D1[np.ix_(pi, pi)]\n",
    "    \n",
    "    D1s.append(D1)\n",
    "    D2s.append(D2)\n",
    "    \n",
    "diams = [D1.max() for D1 in D1s]\n",
    "print(f'diam {np.mean(diams):.1f}±{np.std(diams):.1f}')"
   ]
  },
  {
   "cell_type": "code",
   "execution_count": 12,
   "metadata": {},
   "outputs": [
    {
     "name": "stdout",
     "output_type": "stream",
     "text": [
      "CPU times: user 1d 4h 53min 58s, sys: 2h 37min 10s, total: 1d 7h 31min 9s\n",
      "Wall time: 10h 15min 22s\n"
     ]
    }
   ],
   "source": [
    "%%time\n",
    "rng = np.random.RandomState(0)\n",
    "point_lists = [sample_points(len(D1), len(D2), 10, 1000, rng=rng)\n",
    "               for D1, D2 in zip(D1s, D2s)]"
   ]
  },
  {
   "cell_type": "code",
   "execution_count": 68,
   "metadata": {},
   "outputs": [
    {
     "name": "stdout",
     "output_type": "stream",
     "text": [
      "CPU times: user 1min 14s, sys: 49.3 s, total: 2min 3s\n",
      "Wall time: 38.2 s\n"
     ]
    }
   ],
   "source": [
    "%%time\n",
    "rng = np.random.RandomState(0)\n",
    "points = sample_points(size, size, 100, 1000, rng=rng)"
   ]
  },
  {
   "cell_type": "code",
   "execution_count": 39,
   "metadata": {},
   "outputs": [],
   "source": [
    "import sys, importlib\n",
    "importlib.reload(sys.modules['ub'])\n",
    "from ub import find_min_dis"
   ]
  },
  {
   "cell_type": "code",
   "execution_count": 70,
   "metadata": {},
   "outputs": [
    {
     "name": "stdout",
     "output_type": "stream",
     "text": [
      "100 eucl of size 20 [1.01, 25]: 0% 0.73±0.16, 7.1min\n",
      "100 eucl of size 20 [1.01, 50]: 2% 0.73±0.19, 7.0min\n",
      "100 eucl of size 20 [1.01, 2, 25]: 1% 0.69±0.15, 6.7min\n",
      "100 eucl of size 20 [1.01, 2, 50]: 1% 0.67±0.13, 6.2min\n",
      "100 eucl of size 20 [1.01, 5, 25]: 0% 0.72±0.15, 6.3min\n",
      "100 eucl of size 20 [1.01, 5, 50]: 0% 0.68±0.11, 6.1min\n",
      "100 eucl of size 20 [1.1, 25]: 0% 0.70±0.15, 3.8min\n",
      "100 eucl of size 20 [1.1, 50]: 0% 0.70±0.15, 3.9min\n",
      "100 eucl of size 20 [1.1, 2, 25]: 0% 0.72±0.17, 3.9min\n",
      "100 eucl of size 20 [1.1, 2, 50]: 1% 0.68±0.16, 4.1min\n",
      "100 eucl of size 20 [1.1, 5, 25]: 1% 0.73±0.16, 4.0min\n",
      "100 eucl of size 20 [1.1, 5, 50]: 2% 0.68±0.16, 4.0min\n",
      "CPU times: user 1h 2min 49s, sys: 5.44 s, total: 1h 2min 54s\n",
      "Wall time: 1h 3min\n"
     ]
    }
   ],
   "source": [
    "%%time\n",
    "rng = np.random.RandomState(0)\n",
    "\n",
    "c_seqs = []\n",
    "for c1 in [1.01, 1.1]:\n",
    "    for c2 in [None, 2, 5]:\n",
    "        for c3 in [25, 50]:\n",
    "            c_seq = [c for c in [c1, c2, c3] if c]\n",
    "            if c_seq:\n",
    "                c_seqs.append(c_seq)\n",
    "\n",
    "# c_seqs = [[1.01, 50]]\n",
    "for c_seq in c_seqs:\n",
    "    start = time.time()\n",
    "    dis = [find_min_dis(D1, D2, c_seq=c_seq, max_iter=25, rng=rng, n_restarts=100)\n",
    "           for D1, D2 in zip(D1s, D2s)]\n",
    "    exact_ratio = sum(x == 0 for x in dis) / n\n",
    "    end = time.time()\n",
    "    print(f'{n} {space_type} of size {size} {c_seq}: {exact_ratio:.0%} '\n",
    "          f'{np.mean(dis):.2f}±{np.std(dis):.2f}, {(end-start)/60:.1f}min')\n",
    "\n",
    "# graph [1.1, 25]: 93% 0.14±0.51, 11.7min (10 restarts at random)\n",
    "\n",
    "# graph [1.01, 25]: 86% 0.28±0.69, 6.4min (10 restarts at random)\n",
    "# graph [1.01, 25]: 88% 0.24±0.65, 4.7min (10 restarts using MCMC)\n",
    "\n",
    "# eucl [1.01, 25]: 0% 3.74±0.15, 8.2min (1 restart from center)\n",
    "# eucl [1.01, 25]: 0% 3.53±0.10, 79.5min (10 restarts using MCMC)\n",
    "# eucl [1.01, 25]: 0% 3.56±0.08, 89.6min (10 restarts at random)"
   ]
  },
  {
   "cell_type": "code",
   "execution_count": null,
   "metadata": {},
   "outputs": [],
   "source": [
    "'''\n",
    "eucl [1.01, 25]: 0% 0.73±0.15, 6.1min\n",
    "eucl [1.01, 50]: 0% 0.74±0.16, 6.3min\n",
    "eucl [1.01, 2, 25]: 0% 0.70±0.14, 5.8min\n",
    "eucl [1.01, 2, 50]: 0% 0.71±0.14, 5.9min\n",
    "eucl [1.01, 5, 25]: 0% 0.71±0.13, 5.8min\n",
    "eucl [1.01, 5, 50]: 0% 0.71±0.13, 5.8min\n",
    "eucl [1.1, 25]: 0% 0.71±0.14, 3.8min\n",
    "eucl [1.1, 50]: 0% 0.71±0.14, 4.0min\n",
    "eucl [1.1, 2, 25]: 0% 0.71±0.14, 4.2min\n",
    "eucl [1.1, 2, 50]: 0% 0.71±0.14, 4.4min\n",
    "eucl [1.1, 5, 25]: 0% 0.71±0.13, 4.2min\n",
    "eucl [1.1, 5, 50]: 0% 0.71±0.13, 4.1min\n",
    "'''"
   ]
  },
  {
   "cell_type": "code",
   "execution_count": null,
   "metadata": {},
   "outputs": [],
   "source": [
    "'''\n",
    "EUCL\n",
    "[1.01]: 0% 4.04±0.19, 13.1min\n",
    "[1.1]: 0% 3.89±0.17, 4.7min\n",
    "[2]: 0% 3.76±0.10, 7.3min\n",
    "[5]: 0% 3.99±0.26, 16.3min\n",
    "[25]: 0% 4.04±0.16, 19.7min\n",
    "[50]: 0% 3.99±0.14, 17.9min\n",
    "\n",
    "[1.01, 2]: 0% 3.83±0.15, 11.7min\n",
    "[1.01, 5]: 0% 3.76±0.13, 13.3min\n",
    "[1.01, 25]: 0% 3.75±0.16, 18.3min\n",
    "[1.01, 50]: 0% 3.75±0.14, 18.4min\n",
    "[1.1, 2]: 0% 3.85±0.17, 4.8min\n",
    "[1.1, 5]: 0% 3.77±0.14, 7.7min\n",
    "[1.1, 25]: 0% 3.72±0.12, 8.5min\n",
    "[1.1, 50]: 0% 3.73±0.12, 9.7min\n",
    "[2, 25]: 0% 3.72±0.09, 8.2min\n",
    "[2, 50]: 0% 3.70±0.09, 8.3min\n",
    "[5, 25]: 0% 3.85±0.17, 25.7min\n",
    "[5, 50]: 0% 3.83±0.16, 29.0min\n",
    "\n",
    "[1.01, 2, 25]: 0% 3.71±0.10, 14.3min\n",
    "[1.01, 2, 50]: 0% 3.70±0.12, 15.0min\n",
    "[1.01, 5, 25]: 0% 3.69±0.11, 15.8min\n",
    "[1.01, 5, 50]: 0% 3.68±0.10, 14.1min\n",
    "[1.1, 2, 25]: 0% 3.71±0.12, 8.1min\n",
    "[1.1, 2, 50]: 0% 3.71±0.12, 8.7min\n",
    "[1.1, 5, 25]: 0% 3.69±0.12, 8.7min\n",
    "[1.1, 5, 50]: 0% 3.68±0.11, 8.0min\n",
    "'''"
   ]
  },
  {
   "cell_type": "code",
   "execution_count": null,
   "metadata": {},
   "outputs": [],
   "source": [
    "'''\n",
    "GRAPHS\n",
    "[1.01]: 61% 1.37±1.77, 2.6min\n",
    "[1.1]: 63% 1.26±1.69, 2.5min\n",
    "[2]: 28% 2.34±1.54, 2.9min\n",
    "[5]: 0% 2.77±0.44, 3.9min\n",
    "[25]: 0% 2.45±0.50, 4.5min\n",
    "[50]: 0% 2.41±0.51, 4.6min\n",
    "\n",
    "[1.01, 2]: 61% 1.34±1.73, 2.8min\n",
    "[1.01, 5]: 61% 1.15±1.46, 3.0min\n",
    "[1.01, 25]: 61% 0.81±1.03, 3.4min *\n",
    "[1.01, 50]: 61% 0.81±1.03, 3.6min *\n",
    "[1.1, 2]: 63% 1.25±1.68, 2.7min\n",
    "[1.1, 5]: 63% 1.05±1.40, 3.0min\n",
    "[1.1, 25]: 63% 0.81±1.08, 3.2min *\n",
    "[1.1, 50]: 63% 0.81±1.08, 3.4min *\n",
    "[2, 25]: 28% 1.64±1.09, 4.5min\n",
    "[2, 50]: 28% 1.64±1.09, 4.4min\n",
    "[5, 25]: 0% 2.49±0.50, 4.2min\n",
    "[5, 50]: 0% 2.47±0.50, 4.0min\n",
    "\n",
    "[1.01, 2, 25]: 61% 0.82±1.04, 3.4min\n",
    "[1.01, 2, 50]: 61% 0.82±1.04, 3.3min\n",
    "[1.01, 5, 25]: 61% 0.87±1.12, 3.4min\n",
    "[1.01, 5, 50]: 61% 0.87±1.12, 3.4min\n",
    "[1.1, 2, 25]: 63% 0.81±1.08, 3.4min\n",
    "[1.1, 2, 50]: 63% 0.81±1.08, 3.6min\n",
    "[1.1, 5, 25]: 63% 0.84±1.13, 3.3min\n",
    "[1.1, 5, 50]: 63% 0.82±1.10, 3.3min\n",
    "'''"
   ]
  },
  {
   "cell_type": "code",
   "execution_count": 3,
   "metadata": {},
   "outputs": [],
   "source": [
    "def compile_performance(n, p, max_iter, rel_size_diff, c_seq, show_graph_properties=False):\n",
    "    perf = performance.get((n, p, max_iter, rel_size_diff, c_seq), None)\n",
    "    perf_desc = f\"{perf['acc']:.1%} correct, {perf['time']:.3f}s\" if perf else '-'*10\n",
    "    if show_graph_properties and perf:\n",
    "        perf_desc += f\" (N={perf['order']}, diam={perf['diam']})\"\n",
    "    if rel_size_diff == 0:\n",
    "        size = '#X=#Y'\n",
    "    elif rel_size_diff > 0:\n",
    "        size = f'#Y/#X={1 + rel_size_diff}'\n",
    "    else:\n",
    "        size = f'#X/#Y={1 - rel_size_diff}'\n",
    "    \n",
    "    seq = ' → '.join([f'{c}[{n_iter}]' for c, n_iter in zip(c_seq, perf['iters'])])\n",
    "        \n",
    "    return (f'n={n} | p={p} | max#i={max_iter} | {size} | c[#i]={seq}: {perf_desc}')\n",
    " "
   ]
  },
  {
   "cell_type": "code",
   "execution_count": 10,
   "metadata": {},
   "outputs": [
    {
     "ename": "KeyboardInterrupt",
     "evalue": "",
     "output_type": "error",
     "traceback": [
      "\u001b[0;31m---------------------------------------------------------------------------\u001b[0m",
      "\u001b[0;31mKeyboardInterrupt\u001b[0m                         Traceback (most recent call last)",
      "\u001b[0;32m<ipython-input-10-ef46a3554035>\u001b[0m in \u001b[0;36m<module>\u001b[0;34m\u001b[0m\n\u001b[1;32m     11\u001b[0m \u001b[0;32mfor\u001b[0m \u001b[0mn\u001b[0m\u001b[0;34m,\u001b[0m \u001b[0mp\u001b[0m \u001b[0;32min\u001b[0m \u001b[0mzip\u001b[0m\u001b[0;34m(\u001b[0m\u001b[0mns\u001b[0m\u001b[0;34m,\u001b[0m \u001b[0mps\u001b[0m\u001b[0;34m)\u001b[0m\u001b[0;34m:\u001b[0m\u001b[0;34m\u001b[0m\u001b[0;34m\u001b[0m\u001b[0m\n\u001b[1;32m     12\u001b[0m     \u001b[0;32mfor\u001b[0m \u001b[0m_\u001b[0m \u001b[0;32min\u001b[0m \u001b[0mrange\u001b[0m\u001b[0;34m(\u001b[0m\u001b[0mN\u001b[0m\u001b[0;34m)\u001b[0m\u001b[0;34m:\u001b[0m\u001b[0;34m\u001b[0m\u001b[0;34m\u001b[0m\u001b[0m\n\u001b[0;32m---> 13\u001b[0;31m         \u001b[0m_\u001b[0m\u001b[0;34m,\u001b[0m \u001b[0mD\u001b[0m \u001b[0;34m=\u001b[0m \u001b[0mgen_graph\u001b[0m\u001b[0;34m(\u001b[0m\u001b[0mn\u001b[0m\u001b[0;34m,\u001b[0m \u001b[0mp\u001b[0m\u001b[0;34m,\u001b[0m \u001b[0menforce_n\u001b[0m\u001b[0;34m=\u001b[0m\u001b[0;32mFalse\u001b[0m\u001b[0;34m)\u001b[0m\u001b[0;34m\u001b[0m\u001b[0;34m\u001b[0m\u001b[0m\n\u001b[0m\u001b[1;32m     14\u001b[0m         \u001b[0mDs\u001b[0m\u001b[0;34m[\u001b[0m\u001b[0mn\u001b[0m\u001b[0;34m,\u001b[0m \u001b[0mp\u001b[0m\u001b[0;34m]\u001b[0m\u001b[0;34m.\u001b[0m\u001b[0mappend\u001b[0m\u001b[0;34m(\u001b[0m\u001b[0mD\u001b[0m\u001b[0;34m)\u001b[0m\u001b[0;34m\u001b[0m\u001b[0;34m\u001b[0m\u001b[0m\n\u001b[1;32m     15\u001b[0m         \u001b[0mP0s_by_n_p\u001b[0m\u001b[0;34m[\u001b[0m\u001b[0mn\u001b[0m\u001b[0;34m,\u001b[0m \u001b[0mp\u001b[0m\u001b[0;34m]\u001b[0m\u001b[0;34m.\u001b[0m\u001b[0mappend\u001b[0m\u001b[0;34m(\u001b[0m\u001b[0;34m[\u001b[0m\u001b[0mgen_stoch_mx\u001b[0m\u001b[0;34m(\u001b[0m\u001b[0mlen\u001b[0m\u001b[0;34m(\u001b[0m\u001b[0mD\u001b[0m\u001b[0;34m)\u001b[0m\u001b[0;34m,\u001b[0m \u001b[0mlen\u001b[0m\u001b[0;34m(\u001b[0m\u001b[0mD\u001b[0m\u001b[0;34m)\u001b[0m\u001b[0;34m)\u001b[0m \u001b[0;32mfor\u001b[0m \u001b[0m_\u001b[0m \u001b[0;32min\u001b[0m \u001b[0mrange\u001b[0m\u001b[0;34m(\u001b[0m\u001b[0mn_restarts\u001b[0m\u001b[0;34m)\u001b[0m\u001b[0;34m]\u001b[0m\u001b[0;34m)\u001b[0m\u001b[0;34m\u001b[0m\u001b[0;34m\u001b[0m\u001b[0m\n",
      "\u001b[0;32m~/mGH_UB/ub.py\u001b[0m in \u001b[0;36mgen_graph\u001b[0;34m(n, p, enforce_n)\u001b[0m\n\u001b[1;32m     17\u001b[0m             \u001b[0;32mbreak\u001b[0m\u001b[0;34m\u001b[0m\u001b[0;34m\u001b[0m\u001b[0m\n\u001b[1;32m     18\u001b[0m \u001b[0;34m\u001b[0m\u001b[0m\n\u001b[0;32m---> 19\u001b[0;31m     \u001b[0mD\u001b[0m \u001b[0;34m=\u001b[0m \u001b[0msps\u001b[0m\u001b[0;34m.\u001b[0m\u001b[0mcsgraph\u001b[0m\u001b[0;34m.\u001b[0m\u001b[0mshortest_path\u001b[0m\u001b[0;34m(\u001b[0m\u001b[0mA\u001b[0m\u001b[0;34m,\u001b[0m \u001b[0mdirected\u001b[0m\u001b[0;34m=\u001b[0m\u001b[0;32mFalse\u001b[0m\u001b[0;34m,\u001b[0m \u001b[0munweighted\u001b[0m\u001b[0;34m=\u001b[0m\u001b[0;32mTrue\u001b[0m\u001b[0;34m)\u001b[0m\u001b[0;34m\u001b[0m\u001b[0;34m\u001b[0m\u001b[0m\n\u001b[0m\u001b[1;32m     20\u001b[0m \u001b[0;34m\u001b[0m\u001b[0m\n\u001b[1;32m     21\u001b[0m     \u001b[0;32mreturn\u001b[0m \u001b[0mA\u001b[0m\u001b[0;34m,\u001b[0m \u001b[0mD\u001b[0m\u001b[0;34m\u001b[0m\u001b[0;34m\u001b[0m\u001b[0m\n",
      "\u001b[0;31mKeyboardInterrupt\u001b[0m: "
     ]
    }
   ],
   "source": [
    "#performance = dict()\n",
    "N = 100 # number of graphs in one dataset\n",
    "\n",
    "ns = [10, 100, 500, 1000][:4] # [10]\n",
    "ps = [.25, .05, .01, .005] # [.1]\n",
    "n_restarts = 16\n",
    "\n",
    "Ds = {(n, p): [] for n, p in zip(ns, ps)}\n",
    "P0s_by_n_p = {(n, p): [] for n, p in zip(ns, ps)}\n",
    "pi_YXs = {(n, p): [] for n, p in zip(ns, ps)}\n",
    "for n, p in zip(ns, ps):\n",
    "    for _ in range(N):\n",
    "        _, D = gen_graph(n, p, enforce_n=False)\n",
    "        Ds[n, p].append(D)\n",
    "        P0s_by_n_p[n, p].append([gen_stoch_mx(len(D), len(D)) for _ in range(n_restarts)])\n",
    "        pi_YXs[n, p].append(np.random.permutation(len(D)))\n"
   ]
  },
  {
   "cell_type": "code",
   "execution_count": 9,
   "metadata": {
    "scrolled": false
   },
   "outputs": [
    {
     "name": "stdout",
     "output_type": "stream",
     "text": [
      "SKIPPING 1/27 n=10 | p=0.25 | max#i=100 | #X=#Y | c[#i]=1.00032[3.23] → 2[20.09]: 10.0% correct, 0.027s\n",
      "SKIPPING 2/27 n=10 | p=0.25 | max#i=100 | #X=#Y | c[#i]=1.0016[56.69] → 2[12.33]: 16.0% correct, 0.079s\n",
      "SKIPPING 3/27 n=10 | p=0.25 | max#i=100 | #X=#Y | c[#i]=1.008[15.32] → 2[11.17]: 10.0% correct, 0.031s\n",
      "SKIPPING 4/27 n=10 | p=0.25 | max#i=100 | #X=#Y | c[#i]=1.04[14.18] → 2[7.07]: 13.0% correct, 0.027s\n",
      "SKIPPING 5/27 n=10 | p=0.25 | max#i=100 | #X=#Y | c[#i]=1.1[18.16] → 2[11.25]: 18.0% correct, 0.037s\n",
      "SKIPPING 6/27 n=10 | p=0.25 | max#i=100 | #X=#Y | c[#i]=1.2[14.15] → 2[8.06]: 11.0% correct, 0.030s\n",
      "SKIPPING 7/27 n=10 | p=0.25 | max#i=100 | #X=#Y | c[#i]=1.4[15.48] → 2[9.15]: 14.0% correct, 0.029s\n",
      "SKIPPING 8/27 n=10 | p=0.25 | max#i=100 | #X=#Y | c[#i]=1.6[16.66] → 2[9.39]: 13.0% correct, 0.031s\n",
      "SKIPPING 9/27 n=10 | p=0.25 | max#i=100 | #X=#Y | c[#i]=2[23.06]: 10.0% correct, 0.029s\n",
      "SKIPPING 10/27 n=100 | p=0.05 | max#i=100 | #X=#Y | c[#i]=1.00032[98.54] → 2[15.18]: 20.0% correct, 10.095s\n",
      "SKIPPING 11/27 n=100 | p=0.05 | max#i=100 | #X=#Y | c[#i]=1.0016[40.24] → 2[2.09]: 62.0% correct, 4.030s\n",
      "SKIPPING 12/27 n=100 | p=0.05 | max#i=100 | #X=#Y | c[#i]=1.008[17.5] → 2[1.51]: 62.0% correct, 2.305s\n",
      "SKIPPING 13/27 n=100 | p=0.05 | max#i=100 | #X=#Y | c[#i]=1.04[14.39] → 2[0.48]: 61.0% correct, 1.855s\n",
      "SKIPPING 14/27 n=100 | p=0.05 | max#i=100 | #X=#Y | c[#i]=1.1[15.9] → 2[1.3]: 62.0% correct, 1.912s\n",
      "SKIPPING 15/27 n=100 | p=0.05 | max#i=100 | #X=#Y | c[#i]=1.2[15.19] → 2[0.71]: 52.0% correct, 1.723s\n",
      "SKIPPING 16/27 n=100 | p=0.05 | max#i=100 | #X=#Y | c[#i]=1.4[16.99] → 2[1.45]: 45.0% correct, 2.251s\n",
      "SKIPPING 17/27 n=100 | p=0.05 | max#i=100 | #X=#Y | c[#i]=1.6[18.24] → 2[0.47]: 36.0% correct, 2.103s\n",
      "SKIPPING 18/27 n=100 | p=0.05 | max#i=100 | #X=#Y | c[#i]=2[19.05]: 21.0% correct, 1.995s\n",
      "SKIPPING 19/27 n=500 | p=0.01 | max#i=100 | #X=#Y | c[#i]=1.00032[44.5] → 2[3.86]: 69.0% correct, 118.197s\n",
      "SKIPPING 20/27 n=500 | p=0.01 | max#i=100 | #X=#Y | c[#i]=1.0016[23.97] → 2[1.54]: 69.0% correct, 79.482s\n",
      "SKIPPING 21/27 n=500 | p=0.01 | max#i=100 | #X=#Y | c[#i]=1.008[18.01] → 2[1.97]: 70.0% correct, 62.755s\n",
      "SKIPPING 22/27 n=500 | p=0.01 | max#i=100 | #X=#Y | c[#i]=1.04[16.72] → 2[1.68]: 72.0% correct, 58.875s\n",
      "SKIPPING 23/27 n=500 | p=0.01 | max#i=100 | #X=#Y | c[#i]=1.1[16.33] → 2[0.75]: 71.0% correct, 54.055s\n",
      "SKIPPING 24/27 n=500 | p=0.01 | max#i=100 | #X=#Y | c[#i]=1.2[15.6] → 2[0.91]: 72.0% correct, 52.310s\n",
      "SKIPPING 25/27 n=500 | p=0.01 | max#i=100 | #X=#Y | c[#i]=1.4[16.76] → 2[0.81]: 68.0% correct, 55.345s\n",
      "SKIPPING 26/27 n=500 | p=0.01 | max#i=100 | #X=#Y | c[#i]=1.6[18.32] → 2[1.55]: 70.0% correct, 64.297s\n",
      "27/27: n=500 | p=0.01 | max#i=100 | #X=#Y | c[#i]=2[24.93]: 53.0% correct, 72.155s\n"
     ]
    }
   ],
   "source": [
    "verbose = False\n",
    "i = 0\n",
    "max_iters = [100]\n",
    "rel_size_diffs = [0]#[0, .1, .5, 2.5]\n",
    "c_seqs = [[1.00032, 2], [1.00032, 1.04], [1.0016, 2], [1.0016, 1.2], [1.2], [1.3], [1.4], [1.5], [1.6]]\n",
    "c_seqs = [[1.00032, 2], [1.0016, 2], [1.008, 2], [1.04, 2], [1.1, 2], [1.2, 2], [1.4, 2], [1.6, 2], [2]]\n",
    "n_runs = len(ns) * len(max_iters) * len(rel_size_diffs) * len(c_seqs)\n",
    "for n, p in zip(ns, ps): \n",
    "    \n",
    "    mean_order = np.mean([len(D) for D in Ds[n, p]])\n",
    "    mean_diam = np.mean([D.max() for D in Ds[n, p]])\n",
    "    for max_iter, rel_size_diff, c_seq in product(max_iters, rel_size_diffs, c_seqs):\n",
    "        i += 1\n",
    "        \n",
    "        perf_key = n, p, max_iter, rel_size_diff, tuple(c_seq)\n",
    "        if perf_key in performance:\n",
    "            print(f'SKIPPING {i}/{n_runs}', compile_performance(*perf_key))\n",
    "            continue\n",
    "        \n",
    "        start = time.time()\n",
    "        exact_XY = []\n",
    "        iter_seqs = [None]*N\n",
    "        for j, (DX, P0s, pi_YX) in enumerate(zip(Ds[n, p], P0s_by_n_p[n, p], pi_YXs[n, p])):\n",
    "            ix_ = np.ix_(pi_YX, pi_YX)\n",
    "            if rel_size_diff == 0:\n",
    "                DY = DX[ix_]\n",
    "                # Make optimal mapping non-injective.\n",
    "#                 AX_ = AX.copy()\n",
    "#                 AX = np.zeros((len(AX_) + 1, len(AX_) + 1))\n",
    "#                 AX[:len(AX_), :len(AX_)] = AX_\n",
    "#                 AX[len(AX_), 0] = AX[0, len(AX_)] = .01\n",
    "#                 DX = sps.csgraph.shortest_path(AX, directed=False)\n",
    "#                 AY = AX.copy()\n",
    "#                 AY[len(AX_), 0] = AY[0, len(AX_)] = 100\n",
    "#                 DY = sps.csgraph.shortest_path(AY, directed=False)\n",
    "#             else:\n",
    "#                 size_diff = round(rel_size_diff * len(AX))\n",
    "#                 AY_ = AX[np.ix_(pi_YX, pi_YX)]\n",
    "#                 AY = np.zeros((len(AX) + size_diff, len(AX) + size_diff))\n",
    "#                 AY[:len(AX), :len(AX)] = AY_\n",
    "#                 AY[len(AX):, :] = AY[:, len(AX):] = DX.max() # to guarantee compliance with triangle ineq.\n",
    "#                 AY[np.arange(size_diff) + len(AX), np.arange(size_diff) + len(AX)] = 0\n",
    "#                 DY = sps.csgraph.shortest_path(AY, directed=False)\n",
    "#                 assert np.all(DY[:len(AX), :len(AX)] == DX[np.ix_(pi_YX, pi_YX)]), 'extra points changed Y'\n",
    "                            \n",
    "            dis_ = partial(dis, DX=DX, DY=DY)\n",
    "            ub_XY = np.inf\n",
    "            fw_seq = [make_fw(DX, DY, c=c, dis_=dis_) for c in c_seq]\n",
    "            \n",
    "#             for P0 in P0s_by_n_p[n, p][j]:\n",
    "            for P0 in [None]:#!!\n",
    "                P_star, iter_seq = frank_wolfe_sequence(fw_seq, verbose=False, P0=P0, max_iter=max_iter)\n",
    "                ub = dis_(project_P(P_star))/2\n",
    "                if ub < ub_XY:\n",
    "                    ub_XY = ub\n",
    "                    iter_seqs[j] = iter_seq\n",
    "                    \n",
    "            exact_XY.append(ub_XY == 0)\n",
    "\n",
    "        performance[perf_key] = {'acc': np.mean(exact_XY), 'time': (time.time() - start)/N,\n",
    "                          'iters': np.mean(iter_seqs, axis=0), 'order': mean_order, 'diam': mean_diam}\n",
    "\n",
    "        print(f'{i}/{n_runs}:', compile_performance(*perf_key))\n"
   ]
  },
  {
   "cell_type": "code",
   "execution_count": 2,
   "metadata": {},
   "outputs": [
    {
     "name": "stdout",
     "output_type": "stream",
     "text": [
      "iter 1: dis(P)=3.213, dis(Proj P)=6.0, f(P)=2153420.94, (to) Q, α=0.03562 \n",
      "iter 2: dis(P)=3.279, dis(Proj P)=5.0, f(P)=2152920.40, (to) Q, α=0.05748 \n",
      "iter 3: dis(P)=3.356, dis(Proj P)=5.0, f(P)=2152124.93, (to) Q, α=0.06474 \n",
      "iter 4: dis(P)=3.402, dis(Proj P)=5.0, f(P)=2151169.11, (to) Q, α=0.05173 \n",
      "iter 5: dis(P)=3.412, dis(Proj P)=5.0, f(P)=2150365.39, (to) Q, α=0.07147 \n",
      "iter 6: dis(P)=3.414, dis(Proj P)=5.0, f(P)=2149240.44, (to) Q, α=0.09987 \n",
      "iter 7: dis(P)=3.484, dis(Proj P)=5.0, f(P)=2147643.43, (to) Q, α=0.05192 \n",
      "iter 8: dis(P)=3.497, dis(Proj P)=5.0, f(P)=2146800.99, (to) Q, α=0.09852 \n",
      "iter 9: dis(P)=3.547, dis(Proj P)=5.0, f(P)=2145270.43, (to) Q, α=0.10992 \n",
      "iter 10: dis(P)=3.537, dis(Proj P)=5.0, f(P)=2143529.05, (to) Q, α=0.14531 \n",
      "iter 11: dis(P)=3.501, dis(Proj P)=5.0, f(P)=2141279.06, (to) Q, α=0.08754 \n",
      "iter 12: dis(P)=3.524, dis(Proj P)=5.0, f(P)=2139920.52, (to) Q, α=0.16516 \n",
      "iter 13: dis(P)=3.468, dis(Proj P)=5.0, f(P)=2137545.42, (to) Q, α=0.19683 \n",
      "iter 14: dis(P)=3.499, dis(Proj P)=5.0, f(P)=2134821.92, (to) Q, α=0.13348 \n",
      "iter 15: dis(P)=3.550, dis(Proj P)=5.0, f(P)=2132998.59, (to) Q, α=0.25993 \n",
      "iter 16: dis(P)=3.498, dis(Proj P)=5.0, f(P)=2129778.06, (to) Q, α=0.17152 \n",
      "iter 17: dis(P)=3.726, dis(Proj P)=5.0, f(P)=2127654.29, (to) Q, α=0.52001 \n",
      "iter 18: dis(P)=4.353, dis(Proj P)=5.0, f(P)=2122168.91, (to) Q, α=0.16442 \n",
      "iter 19: dis(P)=4.455, dis(Proj P)=5.0, f(P)=2120124.31, (to) Q, α=0.36002 \n",
      "iter 20: dis(P)=4.646, dis(Proj P)=5.0, f(P)=2116889.81, (to) Q, α=0.20683 \n",
      "iter 21: dis(P)=4.717, dis(Proj P)=5.0, f(P)=2115523.56, (to) Q, α=0.86856 \n",
      "iter 22: dis(P)=4.962, dis(Proj P)=5.0, f(P)=2110938.96, (to) Q, α=0.03140 \n",
      "iter 23: dis(P)=4.963, dis(Proj P)=5.0, f(P)=2110558.32, (to) Q, α=0.08960 \n",
      "iter 24: dis(P)=4.967, dis(Proj P)=5.0, f(P)=2109949.69, (to) Q, α=0.31138 \n",
      "iter 25: dis(P)=4.977, dis(Proj P)=5.0, f(P)=2108675.35, (to) Q, α=0.75046 \n",
      "iter 26: dis(P)=4.994, dis(Proj P)=5.0, f(P)=2107102.96, (to) Q, α=0.07267 \n",
      "iter 27: dis(P)=4.995, dis(Proj P)=5.0, f(P)=2106850.19, (to) Q, α=0.30580 \n",
      "iter 28: dis(P)=4.996, dis(Proj P)=5.0, f(P)=2106246.61, (to) Q, α=1.00000 \n",
      "iter 29: dis(P)=5.000, dis(Proj P)=5.0, f(P)=2105006.24, (to) Q, α=0.07540 \n",
      "iter 30: dis(P)=5.000, dis(Proj P)=5.0, f(P)=2104815.78, (to) Q, α=0.20236 \n",
      "iter 31: dis(P)=5.000, dis(Proj P)=5.0, f(P)=2104578.25, (to) Q, α=1.00000 \n",
      "iter 32: dis(P)=5.000, dis(Proj P)=5.0, f(P)=2103661.51, (to) Q, α=0.14185 \n",
      "iter 33: dis(P)=5.000, dis(Proj P)=5.0, f(P)=2103582.69, (to) Q, α=1.00000 \n",
      "iter 34: dis(P)=5.000, dis(Proj P)=5.0, f(P)=2103271.10, (to) Q, α=0.29010 \n",
      "iter 35: dis(P)=5.000, dis(Proj P)=5.0, f(P)=2103168.77, (to) Q, α=1.00000 \n",
      "iter 36: dis(P)=5.000, dis(Proj P)=5.0, f(P)=2102833.91, (to) Q, α=1.00000 \n",
      "iter 37: dis(P)=5.000, dis(Proj P)=5.0, f(P)=2102765.22, (to) Q, α=0.32865 \n",
      "iter 38: dis(P)=5.000, dis(Proj P)=5.0, f(P)=2102734.90, (to) Q, α=1.00000 \n",
      "iter 39: dis(P)=5.000, dis(Proj P)=5.0, f(P)=2102634.61, (to) Q, α=0.32633 \n",
      "iter 40: dis(P)=5.000, dis(Proj P)=5.0, f(P)=2102628.73, (to) Q, α=1.00000 \n",
      "iter 41: dis(P)=5.000, dis(Proj P)=5.0, f(P)=2102573.72, (to) Q, α=1.00000 \n",
      "iter 42: dis(P)=5.000, dis(Proj P)=5.0, f(P)=2102535.05, (to) Q, α=1.00000 \n",
      "iter 43: dis(P)=5.000, dis(Proj P)=5.0, f(P)=2102505.41, (to) Q, α=1.00000 \n",
      "iter 44: dis(P)=5.000, dis(Proj P)=5.0, f(P)=2102458.70, (to) Q, α=1.00000 \n",
      "iter 45: dis(P)=5.000, dis(Proj P)=5.0, f(P)=2102442.03, (to) Q, α=1.00000 \n",
      "iter 46: dis(P)=5.000, dis(Proj P)=5.0, f(P)=2102421.17, (to) Q, α=1.00000 \n",
      "iter 47: dis(P)=5.000, dis(Proj P)=5.0, f(P)=2102401.10, (to) Q, α=1.00000 \n",
      "iter 48: dis(P)=5.000, dis(Proj P)=5.0, f(P)=2102378.32, (to) Q, α=1.00000 \n",
      "iter 49: dis(P)=5.000, dis(Proj P)=5.0, f(P)=2102360.89, (to) Q, α=1.00000 \n",
      "iter 50: dis(P)=5.000, dis(Proj P)=5.0, f(P)=2102322.51, (to) Q, α=1.00000 \n",
      "iter 51: dis(P)=5.000, dis(Proj P)=5.0, f(P)=2102281.36, (to) Q, α=1.00000 \n",
      "iter 52: dis(P)=5.000, dis(Proj P)=5.0, f(P)=2102259.74, (to) Q, α=1.00000 \n",
      "iter 53: dis(P)=5.000, dis(Proj P)=5.0, f(P)=2102243.90, (to) Q, α=1.00000 \n",
      "iter 54: dis(P)=5.000, dis(Proj P)=5.0, f(P)=2102226.34, (to) Q, α=1.00000 \n",
      "iter 55: dis(P)=5.000, dis(Proj P)=5.0, f(P)=2102213.69, (to) Q, α=1.00000 \n",
      "iter 56: dis(P)=5.000, dis(Proj P)=5.0, f(P)=2102201.18, (to) Q, α=1.00000 \n",
      "iter 57: dis(P)=5.000, dis(Proj P)=5.0, f(P)=2102193.95, (to) Q, α=1.00000 \n",
      "iter 58: dis(P)=5.000, dis(Proj P)=5.0, f(P)=2102185.21, (to) Q, α=1.00000 \n",
      "iter 59: dis(P)=5.000, dis(Proj P)=5.0, f(P)=2102167.86, (to) Q, α=1.00000 \n",
      "iter 60: dis(P)=5.000, dis(Proj P)=5.0, f(P)=2102149.08, (to) Q, α=1.00000 \n",
      "iter 61: dis(P)=5.000, dis(Proj P)=5.0, f(P)=2102136.73, (to) Q, α=1.00000 \n",
      "----------STOP: (to) Q, α=0.00000, ‖∇‖²=18393162183521.18, ‖α*dir‖²=0.00 \n",
      "----------FINAL dis(P)=5.000, dis(Proj P)=5.0, f(P)=2102126.55\n",
      "[1.]\n",
      "0/1: dis=5.0, iters=[61], away step FW\n"
     ]
    }
   ],
   "source": [
    "ds = {False: [], True: []}\n",
    "n = 1\n",
    "for i in range(n):\n",
    "    _, DX = gen_graph(1000, .01)\n",
    "    pi = np.random.permutation(len(DX))\n",
    "    DY = DX[np.ix_(pi, pi)]\n",
    "    dis_ = partial(dis, DX=DX, DY=DY)\n",
    "    \n",
    "#    fw_seq = [make_fw(D2K(DX, t=.5), D2K(DY, t=.5), c=c, dis_=dis_) for c in [1.5]] + [make_fw(DX, DY, c=1.5, dis_=dis_)]\n",
    "    fw_seq = [make_fw(DX, DY, c=1.5, dis_=dis_)]\n",
    "    for is_away_step in [False, True][1:]:\n",
    "        fw_desc = 'away step' if is_away_step else 'regular'\n",
    "        P_star, iters = frank_wolfe_sequence(fw_seq, max_iter=100, is_away_step=is_away_step, verbose=1)\n",
    "        ds[is_away_step].append(dis_(project_P(P_star)))\n",
    "        print(f'{i}/{n}: dis={ds[is_away_step][-1]}, iters={iters}, {fw_desc} FW')"
   ]
  },
  {
   "cell_type": "code",
   "execution_count": 17,
   "metadata": {},
   "outputs": [
    {
     "data": {
      "text/plain": [
       "(100, 100)"
      ]
     },
     "execution_count": 17,
     "metadata": {},
     "output_type": "execute_result"
    }
   ],
   "source": [
    "D1.shape"
   ]
  },
  {
   "cell_type": "code",
   "execution_count": 4,
   "metadata": {},
   "outputs": [
    {
     "name": "stdout",
     "output_type": "stream",
     "text": [
      "accuracy: 19.00%\n",
      "accuracy: 19.00%\n"
     ]
    }
   ],
   "source": [
    "for is_away_step in ds:\n",
    "    success_rate = np.mean(np.array(ds[is_away_step]) == 0)\n",
    "    print(f'accuracy: {success_rate:.2%}')"
   ]
  },
  {
   "cell_type": "code",
   "execution_count": 6,
   "metadata": {},
   "outputs": [],
   "source": [
    "# WARNING: DELETION.\n",
    "ks = performance.copy()\n",
    "for n, p, max_iter, inj, size, obj_type, mx_type in ks:\n",
    "    if n == 10:\n",
    "        del performance[n, p, max_iter, inj, size, obj_type, mx_type]"
   ]
  },
  {
   "cell_type": "code",
   "execution_count": 52,
   "metadata": {},
   "outputs": [
    {
     "name": "stdout",
     "output_type": "stream",
     "text": [
      "n=10 | p=0.25 | max_i=100 | non-inj | #X=#Y | c_exp(D): 48.0% correct, 3s\n",
      "n=10 | p=0.25 | max_i=100 | non-inj | #X=#Y | c_exp(K-exp) → c_exp(D): 46.0% correct, 26s\n",
      "n=10 | p=0.25 | max_i=100 | non-inj | #X=#Y | c_exp(K-exp_t) → c_exp(D): 46.0% correct, 25s\n",
      "n=10 | p=0.25 | max_i=100 | non-inj | #X=#Y | c_exp(K-exp) → exp(D): 50.0% correct, 21s\n",
      "n=10 | p=0.25 | max_i=100 | non-inj | #X=#Y | c_exp(K-exp_t) → exp(D): 48.0% correct, 21s\n",
      "n=10 | p=0.25 | max_i=100 | non-inj | #X=#Y | c_exp(K-exp) → sq+(D): 54.0% correct, 95s\n",
      "n=10 | p=0.25 | max_i=100 | non-inj | #X=#Y | c_exp(K-exp_t) → sq+(D): 52.0% correct, 97s\n",
      "n=10 | p=0.25 | max_i=100 | non-inj | #X=#Y | exp(D): 38.0% correct, 5s\n",
      "n=10 | p=0.25 | max_i=100 | non-inj | #X=#Y | exp(K-exp) → c_exp(D): 54.0% correct, 24s\n",
      "n=10 | p=0.25 | max_i=100 | non-inj | #X=#Y | exp(K-exp_t) → c_exp(D): 56.0% correct, 23s\n",
      "n=10 | p=0.25 | max_i=100 | non-inj | #X=#Y | exp(K-exp) → exp(D): 48.0% correct, 18s\n",
      "n=10 | p=0.25 | max_i=100 | non-inj | #X=#Y | exp(K-exp_t) → exp(D): 66.0% correct, 20s\n",
      "n=10 | p=0.25 | max_i=100 | non-inj | #X=#Y | exp(K-inv) → exp(D): 46.0% correct, 23s\n",
      "n=10 | p=0.25 | max_i=100 | non-inj | #X=#Y | exp(K-exp) → sq+(D): 58.0% correct, 89s\n",
      "n=10 | p=0.25 | max_i=100 | non-inj | #X=#Y | exp(K-exp_t) → sq+(D): 72.0% correct, 91s\n",
      "n=10 | p=0.25 | max_i=100 | non-inj | #X=#Y | exp(K-inv) → sq+(D): 56.0% correct, 97s\n",
      "n=10 | p=0.25 | max_i=100 | non-inj | #X=#Y | sq+(D): 66.0% correct, 78s\n",
      "n=10 | p=0.25 | max_i=100 | non-inj | #X=#Y | sq+(K-exp) → c_exp(D): 30.0% correct, 97s\n",
      "n=10 | p=0.25 | max_i=100 | non-inj | #X=#Y | sq+(K-exp_t) → c_exp(D): 26.0% correct, 99s\n",
      "n=10 | p=0.25 | max_i=100 | non-inj | #X=#Y | sq+(K-exp) → exp(D): 36.0% correct, 94s\n",
      "n=10 | p=0.25 | max_i=100 | non-inj | #X=#Y | sq+(K-exp_t) → exp(D): 42.0% correct, 106s\n",
      "n=10 | p=0.25 | max_i=100 | non-inj | #X=#Y | sq+(K-inv) → exp(D): 34.0% correct, 103s\n",
      "n=10 | p=0.25 | max_i=100 | non-inj | #X=#Y | sq+(K-exp) → sq+(D): 42.0% correct, 172s\n",
      "n=10 | p=0.25 | max_i=100 | non-inj | #X=#Y | sq+(K-exp_t) → sq+(D): 26.0% correct, 185s\n",
      "n=10 | p=0.25 | max_i=100 | non-inj | #X=#Y | sq+(K-inv) → sq+(D): 24.0% correct, 184s\n",
      "n=100 | p=0.05 | max_i=100 | non-inj | #X=#Y | c_exp(D): 86.0% correct, 622s\n",
      "n=100 | p=0.05 | max_i=100 | non-inj | #X=#Y | c_exp(K-exp) → c_exp(D): 74.0% correct, 3772s\n",
      "n=100 | p=0.05 | max_i=100 | non-inj | #X=#Y | c_exp(K-exp_t) → c_exp(D): 90.0% correct, 4925s\n",
      "n=100 | p=0.05 | max_i=100 | non-inj | #X=#Y | c_exp(K-exp) → exp(D): 40.0% correct, 3573s\n",
      "n=100 | p=0.05 | max_i=100 | non-inj | #X=#Y | c_exp(K-exp_t) → exp(D): 74.0% correct, 4521s\n",
      "n=100 | p=0.05 | max_i=100 | non-inj | #X=#Y | c_exp(K-exp) → sq+(D): 54.0% correct, 4134s\n",
      "n=100 | p=0.05 | max_i=100 | non-inj | #X=#Y | c_exp(K-exp_t) → sq+(D): 86.0% correct, 4884s\n",
      "n=100 | p=0.05 | max_i=100 | non-inj | #X=#Y | exp(D): 26.0% correct, 765s\n",
      "n=100 | p=0.05 | max_i=100 | non-inj | #X=#Y | exp(K-exp) → c_exp(D): 80.0% correct, 3493s\n",
      "n=100 | p=0.05 | max_i=100 | non-inj | #X=#Y | exp(K-exp_t) → c_exp(D): 94.0% correct, 4629s\n",
      "n=100 | p=0.05 | max_i=100 | non-inj | #X=#Y | exp(K-exp) → exp(D): 18.0% correct, 3279s\n",
      "n=100 | p=0.05 | max_i=100 | non-inj | #X=#Y | exp(K-exp_t) → exp(D): 80.0% correct, 5144s\n",
      "n=100 | p=0.05 | max_i=100 | non-inj | #X=#Y | exp(K-inv) → exp(D): 50.0% correct, 4909s\n",
      "n=100 | p=0.05 | max_i=100 | non-inj | #X=#Y | exp(K-exp) → sq+(D): 56.0% correct, 4207s\n",
      "n=100 | p=0.05 | max_i=100 | non-inj | #X=#Y | exp(K-exp_t) → sq+(D): 80.0% correct, 5995s\n",
      "n=100 | p=0.05 | max_i=100 | non-inj | #X=#Y | exp(K-inv) → sq+(D): 72.0% correct, 24333s\n",
      "n=100 | p=0.05 | max_i=100 | non-inj | #X=#Y | sq+(D): 46.0% correct, 1202s\n",
      "n=100 | p=0.05 | max_i=100 | non-inj | #X=#Y | sq+(K-exp) → c_exp(D): 30.0% correct, 1864s\n",
      "n=100 | p=0.05 | max_i=100 | non-inj | #X=#Y | sq+(K-exp_t) → c_exp(D): 62.0% correct, 1900s\n",
      "n=100 | p=0.05 | max_i=100 | non-inj | #X=#Y | sq+(K-exp) → exp(D): 14.0% correct, 1887s\n",
      "n=100 | p=0.05 | max_i=100 | non-inj | #X=#Y | sq+(K-exp_t) → exp(D): 12.0% correct, 1966s\n",
      "n=100 | p=0.05 | max_i=100 | non-inj | #X=#Y | sq+(K-inv) → exp(D): 20.0% correct, 2025s\n",
      "n=100 | p=0.05 | max_i=100 | non-inj | #X=#Y | sq+(K-exp) → sq+(D): 22.0% correct, 2758s\n",
      "n=100 | p=0.05 | max_i=100 | non-inj | #X=#Y | sq+(K-exp_t) → sq+(D): 40.0% correct, 2494s\n",
      "n=100 | p=0.05 | max_i=100 | non-inj | #X=#Y | sq+(K-inv) → sq+(D): 52.0% correct, 3131s\n"
     ]
    }
   ],
   "source": [
    "#for n, p, max_iter, inj, size, obj_type, mx_type in product(ns, ps, max_iters, injs, sizes, obj_types, mx_types):\n",
    "#    print(compile_performance(n, p, max_iter, inj, size, obj_type, mx_type))\n",
    "for n, p, max_iter, inj, size, obj_type, mx_type in sorted(performance.keys()):\n",
    "#    if ((obj_type == 'mix+' and inj == 0) or (obj_type == 'sq+' and inj == 1)) and mx_type == 1:\n",
    "#    if size == 1:\n",
    "    #if n == 100 and obj_type == 'sq':\n",
    "        print(compile_performance(n, p, max_iter, inj, size, obj_type, mx_type, show_graph_properties=False))\n"
   ]
  },
  {
   "cell_type": "code",
   "execution_count": null,
   "metadata": {},
   "outputs": [],
   "source": [
    "'''\n",
    "n=100, p=0.05, max_iter=100, inj, X=Y, ‖Δ‖², AX & AY: 48.0% correct in 4s\n",
    "n=100, p=0.05, max_iter=100, inj, X=Y, ‖Δ‖², DX & DY: 100.0% correct in 1s\n",
    "n=100, p=0.05, max_iter=100, inj, X=Y, ‖e^|Δ|‖_1, AX & AY: 60.0% correct in 15s\n",
    "n=100, p=0.05, max_iter=100, inj, X=Y, ‖e^|Δ|‖_1, DX & DY: 30.0% correct in 15s\n",
    "n=500, p=0.05, max_iter=100, inj, X=Y, ‖Δ‖², AX & AY: 98.0% correct in 75s\n",
    "n=500, p=0.05, max_iter=100, inj, X=Y, ‖Δ‖², DX & DY: 100.0% correct in 29s\n",
    "n=500, p=0.05, max_iter=100, inj, X=Y, ‖e^|Δ|‖_1, AX & AY: 86.0% correct in 402s\n",
    "n=500, p=0.05, max_iter=100, inj, X=Y, ‖e^|Δ|‖_1, DX & DY: 100.0% correct in 169s\n",
    "n=10, p=0.1, max_iter=100, inj, X=Y, ‖Δ‖², AX & AY: 88.0% correct in 0s\n",
    "n=10, p=0.1, max_iter=100, inj, X=Y, ‖Δ‖², DX & DY: 90.0% correct in 0s\n",
    "n=10, p=0.1, max_iter=100, inj, X=Y, ‖e^|Δ|‖_1, AX & AY: 90.0% correct in 0s\n",
    "n=10, p=0.1, max_iter=100, inj, X=Y, ‖e^|Δ|‖_1, DX & DY: 86.0% correct in 0s\n",
    "'''"
   ]
  },
  {
   "cell_type": "code",
   "execution_count": 597,
   "metadata": {},
   "outputs": [],
   "source": [
    "AX0, DX0, pi_YX0 = AX.copy(), DX.copy(), pi_YX.copy() # conserve problematic combination (AX,AY work but DX,DY don't on 'sq', inj=1)"
   ]
  },
  {
   "cell_type": "code",
   "execution_count": 1035,
   "metadata": {},
   "outputs": [],
   "source": [
    "AX, DX, pi_YX = AX0.copy(), DX0.copy(), pi_YX0.copy() # restore the problematic combination\n",
    "n = len(AX)\n",
    "AY_ = AX[np.ix_(pi_YX, pi_YX)]\n",
    "DY_ = DX[np.ix_(pi_YX, pi_YX)]\n",
    "AY = np.zeros((n + 1, n + 1))\n",
    "AY[:n, :n] = AY_\n",
    "AY[n - 1, n] = AY[n, n - 1] = DX.max()\n",
    "DY = sps.csgraph.shortest_path(AY, directed=False)\n",
    "assert np.all(DY[:len(AX), :len(AX)] == DX[np.ix_(pi_YX, pi_YX)])"
   ]
  },
  {
   "cell_type": "code",
   "execution_count": 683,
   "metadata": {},
   "outputs": [],
   "source": [
    "AX, DX = generate_graph(20, .1, enforce_n=True) # generate a combination\n",
    "n = len(AX)\n",
    "pi_YX = np.random.permutation(n)\n",
    "AY_ = AX[np.ix_(pi_YX, pi_YX)]\n",
    "DY_ = DX[np.ix_(pi_YX, pi_YX)]\n",
    "AY = np.zeros((n + 1, n + 1))\n",
    "AY[:n, :n] = AY_\n",
    "AY[n - 1, n] = AY[n, n - 1] = DX.max()\n",
    "DY = sps.csgraph.shortest_path(AY, directed=False)"
   ]
  },
  {
   "cell_type": "code",
   "execution_count": 1045,
   "metadata": {},
   "outputs": [
    {
     "name": "stdout",
     "output_type": "stream",
     "text": [
      "----------INIT dis(P)=3.043083900226758, dis_l2(P)=718.2345524755629, dis(Pi)=6.0,dis_l2(Pi)=718.2345524755629, f(P)=-2844.5532879818593\n",
      "iter 0: dis(P)=10.0, dis_l2(P)=1378.0, dis(Pi)=10.0,dis_l2(Pi)=1378.0, f(P)=-3550.0, α=[1.], ‖∇f‖²=41614243.99,‖α*dQP‖²=19.05 \n",
      "iter 1: dis(P)=10.0, dis_l2(P)=1354.0, dis(Pi)=10.0,dis_l2(Pi)=1354.0, f(P)=-3562.0, α=[1.], ‖∇f‖²=46746432.00,‖α*dQP‖²=8.00 \n",
      "iter 2: dis(P)=10.0, dis_l2(P)=1334.0, dis(Pi)=10.0,dis_l2(Pi)=1334.0, f(P)=-3572.0, α=[1.], ‖∇f‖²=46726980.00,‖α*dQP‖²=4.00 \n",
      "----------STOP α=[0.5], ‖∇f‖²=46712668.00, ‖α*dQP‖²=0.00 \n",
      "----------INIT dis(P)=10.0, dis_l2(P)=1334.0, dis(Pi)=10.0,dis_l2(Pi)=1334.0, f(P)=50993.59042134862\n",
      "iter 0: dis(P)=4.9772435315624355, dis_l2(P)=1220.1681104719905, dis(Pi)=5.0,dis_l2(Pi)=1220.1681104719905, f(P)=3568.799159954821, α=[0.99544871], ‖∇f‖²=99617261804.35,‖α*dQP‖²=35.67 \n",
      "iter 1: dis(P)=2.789423687223117, dis_l2(P)=466.8138121777503, dis(Pi)=3.0,dis_l2(Pi)=466.8138121777503, f(P)=1552.947271233746, α=[0.94419204], ‖∇f‖²=1703522855.08,‖α*dQP‖²=35.49 \n",
      "iter 2: dis(P)=2.0447731377396052, dis_l2(P)=251.80041892121474, dis(Pi)=3.0,dis_l2(Pi)=251.80041892121474, f(P)=1342.6752410603835, α=[0.60744824], ‖∇f‖²=46463718719.14,‖α*dQP‖²=11.52 \n",
      "iter 3: dis(P)=2.0, dis_l2(P)=242.0, dis(Pi)=2.0,dis_l2(Pi)=242.0, f(P)=1084.0864607161936, α=[1.], ‖∇f‖²=20992352321.18,‖α*dQP‖²=15.72 \n",
      "iter 4: dis(P)=2.0, dis_l2(P)=164.0, dis(Pi)=2.0,dis_l2(Pi)=164.0, f(P)=989.927911255853, α=[1.], ‖∇f‖²=47929796334.85,‖α*dQP‖²=22.00 \n",
      "iter 5: dis(P)=2.0, dis_l2(P)=60.0, dis(Pi)=2.0,dis_l2(Pi)=60.0, f(P)=879.326631821573, α=[1.], ‖∇f‖²=84481943072.61,‖α*dQP‖²=12.00 \n",
      "iter 6: dis(P)=0.0, dis_l2(P)=0.0, dis(Pi)=0.0,dis_l2(Pi)=0.0, f(P)=800.0, α=[1.], ‖∇f‖²=96623709245.07,‖α*dQP‖²=4.00 \n",
      "----------STOP α=[0.5], ‖∇f‖²=96761809384.06, ‖α*dQP‖²=0.00 \n"
     ]
    },
    {
     "data": {
      "text/plain": [
       "(5.0,\n",
       " 0.0,\n",
       " array([18,  0,  5, 14,  6, 17,  3, 11, 19,  7,  1, 12,  9, 10, 13, 15,  8,\n",
       "         2,  4, 16]))"
      ]
     },
     "execution_count": 1045,
     "metadata": {},
     "output_type": "execute_result"
    }
   ],
   "source": [
    "#find_ub_XY(DX, DY, partial(dis, DX=DX, DY=DY), 1, 100, 0, True)\n",
    "#_,_,Pi = find_ub_XY(DY, DX, partial(dis, DX=DY, DY=DX), 1, 100, 1, True)\n",
    "#dis(Pi[[0, 1, 2, 3, 4, 5, 6, 7]], DY, DX), Pi\n",
    "\n",
    "inj_ub, ub, Pi_from_center = find_ub_XY(DX, DY, DX, DY, 'mix', 1000, 0, True)\n",
    "# Pi_correct=[18,  0,  5, 14,  6, 17,  3, 11, 19,  7,  1, 12,  9, 10, 13, 15,  8, 2,  4, 16]\n",
    "# pi_XY==Pi_correct for DX, DY_\n",
    "inj_ub, ub, P2p(Pi_from_center)#, dis(Pi_XY, DX, DY)"
   ]
  },
  {
   "cell_type": "code",
   "execution_count": 1027,
   "metadata": {},
   "outputs": [
    {
     "data": {
      "text/plain": [
       "array([18,  0,  5, 14,  6, 17,  3, 11, 19,  7,  1, 12,  9, 10, 13, 15,  8,\n",
       "        2,  4, 16])"
      ]
     },
     "execution_count": 1027,
     "metadata": {},
     "output_type": "execute_result"
    }
   ],
   "source": [
    "Pi0 = p2P(np.argsort(pi_YX), len(DY)) # correct mapping X → Y (dis = 0)\n",
    "Pi = Pi_from_center\n",
    "P2p(Pi0)"
   ]
  },
  {
   "cell_type": "code",
   "execution_count": 532,
   "metadata": {},
   "outputs": [
    {
     "data": {
      "text/plain": [
       "'\\n!! why correct Pi_XY is not a local minimum for ‖Δ‖² on DX, DY and injections (but it is on AX, AY)?\\nIs it because P.T@P != I (since |DY| > |DX|) and even for injective mapping:\\nargmin ‖DX - P@DY@P.T‖² = argmin -2<P, DX@P@DY> + ‖P@DY@P.T‖² != argmin -<P, DX@P@DY>\\n?\\n'"
      ]
     },
     "execution_count": 532,
     "metadata": {},
     "output_type": "execute_result"
    }
   ],
   "source": [
    "'''\n",
    "[Pi0 = correct, Pi = obtained from F-W minimization (‖Δ‖², DX, DY, injections)] with no initialization\n",
    "\n",
    "Why 'mix' recovered the isomorphism but 'mix+' did not?\n",
    "\n",
    "'''\n"
   ]
  },
  {
   "cell_type": "code",
   "execution_count": 1028,
   "metadata": {},
   "outputs": [
    {
     "name": "stdout",
     "output_type": "stream",
     "text": [
      "-<Pi, DX@Pi@DY>=-2578.0, -<Pi0, DX@Pi0@DY>=-2910.0, ‖Pi@DY@Pi.T‖²=2766.0, ‖Pi0@DY@Pi0.T‖²=2910.0\n",
      "-<Pi, AX@Pi@AY>=-26.0, -<Pi0, AX@Pi0@AY>=-66.0, ‖Pi@AY@Pi.T‖²=68.0, ‖Pi0@AY@Pi0.T‖²=66.0\n"
     ]
    },
    {
     "data": {
      "text/plain": [
       "(-2390.0, -2910.0)"
      ]
     },
     "execution_count": 1028,
     "metadata": {},
     "output_type": "execute_result"
    }
   ],
   "source": [
    "print('-<Pi, DX@Pi@DY>={}, -<Pi0, DX@Pi0@DY>={}, ‖Pi@DY@Pi.T‖²={}, ‖Pi0@DY@Pi0.T‖²={}'.format(\n",
    "    np.sum(Pi * (-DX@Pi@DY)), np.sum(Pi0 * (-DX@Pi0@DY)),\n",
    "    np.sum((Pi@DY@Pi.T)**2), np.sum((Pi0@DY@Pi0.T)**2)\n",
    "))\n",
    "print('-<Pi, AX@Pi@AY>={}, -<Pi0, AX@Pi0@AY>={}, ‖Pi@AY@Pi.T‖²={}, ‖Pi0@AY@Pi0.T‖²={}'.format(\n",
    "    np.sum(Pi * (-AX@Pi@AY)), np.sum(Pi0 * (-AX@Pi0@AY)),\n",
    "    np.sum((Pi@AY@Pi.T)**2), np.sum((Pi0@AY@Pi0.T)**2)\n",
    "))\n",
    "2*np.sum(Pi * (-DX@Pi@DY)) + np.sum((Pi@DY@Pi.T)**2), 2*np.sum(Pi0 * (-DX@Pi0@DY)) + np.sum((Pi0@DY@Pi0.T)**2)"
   ]
  },
  {
   "cell_type": "code",
   "execution_count": 1032,
   "metadata": {},
   "outputs": [
    {
     "name": "stdout",
     "output_type": "stream",
     "text": [
      "----------INIT dis(P)=3.0, dis_l2(P)=520.0, dis(Pi)=3.0,dis_l2(Pi)=520.0, f(P)=-1195.0\n",
      "iter 0: dis(P)=2.780997591989085, dis_l2(P)=225.07424437484195, dis(Pi)=3.0,dis_l2(Pi)=225.07424437484195, f(P)=-1342.4628778125789, α=[0.27337848], ‖∇f‖²=1826084.00,‖α*dQP‖²=2.99 \n",
      "iter 1: dis(P)=2.6503266505911114, dis_l2(P)=193.2216292859594, dis(Pi)=3.0,dis_l2(Pi)=193.2216292859594, f(P)=-1358.3891853570203, α=[0.122432], ‖∇f‖²=401259.97,‖α*dQP‖²=0.34 \n",
      "iter 2: dis(P)=3.064566937643172, dis_l2(P)=182.22661239002818, dis(Pi)=3.0,dis_l2(Pi)=182.22661239002818, f(P)=-1363.886693804986, α=[0.09501403], ‖∇f‖²=306284.01,‖α*dQP‖²=0.21 \n",
      "iter 3: dis(P)=3.030833810194699, dis_l2(P)=180.99947474069558, dis(Pi)=3.0,dis_l2(Pi)=180.99947474069558, f(P)=-1364.500262629652, α=[0.02639734], ‖∇f‖²=356299.30,‖α*dQP‖²=0.01 \n",
      "iter 4: dis(P)=2.987270889014601, dis_l2(P)=179.5219953166143, dis(Pi)=3.0,dis_l2(Pi)=179.5219953166143, f(P)=-1365.2390023416929, α=[0.03232721], ‖∇f‖²=364730.70,‖α*dQP‖²=0.02 \n",
      "iter 5: dis(P)=3.122684342853983, dis_l2(P)=178.05819648964456, dis(Pi)=3.0,dis_l2(Pi)=178.05819648964456, f(P)=-1365.9709017551777, α=[0.04084052], ‖∇f‖²=375800.37,‖α*dQP‖²=0.02 \n",
      "iter 6: dis(P)=2.9716270879108126, dis_l2(P)=175.1326170908099, dis(Pi)=3.0,dis_l2(Pi)=175.1326170908099, f(P)=-1367.4336914545952, α=[0.10020105], ‖∇f‖²=407872.83,‖α*dQP‖²=0.20 \n",
      "iter 7: dis(P)=2.932950840141233, dis_l2(P)=174.2985418311112, dis(Pi)=3.0,dis_l2(Pi)=174.2985418311112, f(P)=-1367.8507290844445, α=[0.02488047], ‖∇f‖²=351785.24,‖α*dQP‖²=0.01 \n",
      "iter 8: dis(P)=3.0529500590801177, dis_l2(P)=173.06357619488497, dis(Pi)=3.0,dis_l2(Pi)=173.06357619488497, f(P)=-1368.4682119025579, α=[0.03510413], ‖∇f‖²=361267.82,‖α*dQP‖²=0.02 \n",
      "iter 9: dis(P)=2.9460922735207538, dis_l2(P)=171.52806729961912, dis(Pi)=3.0,dis_l2(Pi)=171.52806729961912, f(P)=-1369.2359663501904, α=[0.07524729], ‖∇f‖²=383523.35,‖α*dQP‖²=0.06 \n",
      "iter 10: dis(P)=3.049352648010422, dis_l2(P)=170.6005708482998, dis(Pi)=3.0,dis_l2(Pi)=170.6005708482998, f(P)=-1369.69971457585, α=[0.02989146], ‖∇f‖²=342303.58,‖α*dQP‖²=0.01 \n",
      "iter 11: dis(P)=3.021795433748573, dis_l2(P)=170.02729092260978, dis(Pi)=3.0,dis_l2(Pi)=170.02729092260978, f(P)=-1369.9863545386952, α=[0.01981305], ‖∇f‖²=360653.94,‖α*dQP‖²=0.01 \n",
      "iter 12: dis(P)=3.007341567543345, dis_l2(P)=169.87415940269378, dis(Pi)=3.0,dis_l2(Pi)=169.87415940269378, f(P)=-1370.0629202986531, α=[0.00968238], ‖∇f‖²=367007.99,‖α*dQP‖²=0.00 \n",
      "iter 13: dis(P)=3.0651482006662563, dis_l2(P)=169.5755509361645, dis(Pi)=3.0,dis_l2(Pi)=169.5755509361645, f(P)=-1370.2122245319179, α=[0.01778548], ‖∇f‖²=368924.25,‖α*dQP‖²=0.00 \n",
      "iter 14: dis(P)=2.9856710788862815, dis_l2(P)=168.66128722528157, dis(Pi)=3.0,dis_l2(Pi)=168.66128722528157, f(P)=-1370.6693563873594, α=[0.05530669], ‖∇f‖²=382038.97,‖α*dQP‖²=0.03 \n",
      "iter 15: dis(P)=3.0663508846945593, dis_l2(P)=168.12231647659047, dis(Pi)=3.0,dis_l2(Pi)=168.12231647659047, f(P)=-1370.9388417617047, α=[0.02409413], ‖∇f‖²=349887.62,‖α*dQP‖²=0.01 \n",
      "iter 16: dis(P)=3.042935701103466, dis_l2(P)=167.7240280530907, dis(Pi)=3.0,dis_l2(Pi)=167.7240280530907, f(P)=-1371.1379859734548, α=[0.0166224], ‖∇f‖²=368479.21,‖α*dQP‖²=0.00 \n",
      "iter 17: dis(P)=2.977624422288838, dis_l2(P)=167.12307439955742, dis(Pi)=3.0,dis_l2(Pi)=167.12307439955742, f(P)=-1371.4384628002213, α=[0.04321033], ‖∇f‖²=374095.86,‖α*dQP‖²=0.03 \n",
      "iter 18: dis(P)=3.0416795294793264, dis_l2(P)=166.7357419378485, dis(Pi)=3.0,dis_l2(Pi)=166.7357419378485, f(P)=-1371.6321290310757, α=[0.01904089], ‖∇f‖²=350737.21,‖α*dQP‖²=0.01 \n",
      "iter 19: dis(P)=3.024591223537923, dis_l2(P)=166.52511363133877, dis(Pi)=3.0,dis_l2(Pi)=166.52511363133877, f(P)=-1371.7374431843305, α=[0.01249888], ‖∇f‖²=362943.74,‖α*dQP‖²=0.00 \n",
      "iter 20: dis(P)=3.0125989129213986, dis_l2(P)=166.4227089468498, dis(Pi)=3.0,dis_l2(Pi)=166.4227089468498, f(P)=-1371.788645526575, α=[0.00795835], ‖∇f‖²=367978.58,‖α*dQP‖²=0.00 \n",
      "iter 21: dis(P)=3.0559657643320746, dis_l2(P)=166.26452467997268, dis(Pi)=3.0,dis_l2(Pi)=166.26452467997268, f(P)=-1371.8677376600137, α=[0.01341362], ‖∇f‖²=369418.93,‖α*dQP‖²=0.00 \n",
      "iter 22: dis(P)=2.9946441919294258, dis_l2(P)=165.633740609723, dis(Pi)=4.0,dis_l2(Pi)=165.633740609723, f(P)=-1372.1831296951386, α=[0.04364215], ‖∇f‖²=380136.12,‖α*dQP‖²=0.02 \n",
      "iter 23: dis(P)=3.0454418113050563, dis_l2(P)=165.37971815339836, dis(Pi)=3.0,dis_l2(Pi)=165.37971815339836, f(P)=-1372.3101409233009, α=[0.01521156], ‖∇f‖²=356731.16,‖α*dQP‖²=0.00 \n",
      "iter 24: dis(P)=3.0264373342316886, dis_l2(P)=165.12070153296378, dis(Pi)=3.0,dis_l2(Pi)=165.12070153296378, f(P)=-1372.4396492335181, α=[0.01360602], ‖∇f‖²=366276.40,‖α*dQP‖²=0.00 \n",
      "iter 25: dis(P)=2.963985079304907, dis_l2(P)=164.6713306446357, dis(Pi)=3.0,dis_l2(Pi)=164.6713306446357, f(P)=-1372.6643346776823, α=[0.04072393], ‖∇f‖²=370916.69,‖α*dQP‖²=0.02 \n",
      "iter 26: dis(P)=3.035123596003995, dis_l2(P)=164.23880095332976, dis(Pi)=3.0,dis_l2(Pi)=164.23880095332976, f(P)=-1372.8805995233351, α=[0.02097734], ‖∇f‖²=347381.33,‖α*dQP‖²=0.01 \n",
      "iter 27: dis(P)=3.020941900545131, dis_l2(P)=164.06166043584562, dis(Pi)=3.0,dis_l2(Pi)=164.06166043584562, f(P)=-1372.9691697820772, α=[0.01054202], ‖∇f‖²=361709.20,‖α*dQP‖²=0.00 \n",
      "iter 28: dis(P)=2.9696513343941904, dis_l2(P)=163.6806373302913, dis(Pi)=4.0,dis_l2(Pi)=163.6806373302913, f(P)=-1373.1596813348542, α=[0.03638347], ‖∇f‖²=364935.08,‖α*dQP‖²=0.01 \n",
      "iter 29: dis(P)=3.03215495408457, dis_l2(P)=163.3171988257211, dis(Pi)=4.0,dis_l2(Pi)=163.3171988257211, f(P)=-1373.3414005871396, α=[0.01827865], ‖∇f‖²=344288.20,‖α*dQP‖²=0.01 \n",
      "iter 30: dis(P)=3.0207268244806635, dis_l2(P)=163.2140807599801, dis(Pi)=4.0,dis_l2(Pi)=163.2140807599801, f(P)=-1373.39295962001, α=[0.00826587], ‖∇f‖²=356093.38,‖α*dQP‖²=0.00 \n",
      "iter 31: dis(P)=2.9621584916413553, dis_l2(P)=162.84135620994147, dis(Pi)=4.0,dis_l2(Pi)=162.84135620994147, f(P)=-1373.5793218950294, α=[0.03788572], ‖∇f‖²=359777.38,‖α*dQP‖²=0.01 \n",
      "iter 32: dis(P)=3.025388848487907, dis_l2(P)=162.50054096831613, dis(Pi)=4.0,dis_l2(Pi)=162.50054096831613, f(P)=-1373.7497295158419, α=[0.0186022], ‖∇f‖²=340594.74,‖α*dQP‖²=0.00 \n",
      "iter 33: dis(P)=3.0102899804804215, dis_l2(P)=162.32441389333076, dis(Pi)=4.0,dis_l2(Pi)=162.32441389333076, f(P)=-1373.8377930533347, α=[0.01128194], ‖∇f‖²=353626.25,‖α*dQP‖²=0.00 \n",
      "iter 34: dis(P)=3.001306535143641, dis_l2(P)=162.24595846768744, dis(Pi)=4.0,dis_l2(Pi)=162.24595846768744, f(P)=-1373.8770207661562, α=[0.00663804], ‖∇f‖²=357854.06,‖α*dQP‖²=0.00 \n",
      "iter 35: dis(P)=3.0303858792158667, dis_l2(P)=162.16693673397165, dis(Pi)=4.0,dis_l2(Pi)=162.16693673397165, f(P)=-1373.9165316330143, α=[0.00882784], ‖∇f‖²=359058.67,‖α*dQP‖²=0.00 \n",
      "iter 36: dis(P)=2.9775615957395107, dis_l2(P)=161.76587774386627, dis(Pi)=4.0,dis_l2(Pi)=161.76587774386627, f(P)=-1374.1170611280668, α=[0.03785931], ‖∇f‖²=365376.71,‖α*dQP‖²=0.01 \n",
      "iter 37: dis(P)=3.0322612584829547, dis_l2(P)=161.4882035689965, dis(Pi)=4.0,dis_l2(Pi)=161.4882035689965, f(P)=-1374.2558982155017, α=[0.01613713], ‖∇f‖²=343396.27,‖α*dQP‖²=0.00 \n",
      "iter 38: dis(P)=3.018640339198789, dis_l2(P)=161.34193140929733, dis(Pi)=4.0,dis_l2(Pi)=161.34193140929733, f(P)=-1374.329034295351, α=[0.00988604], ‖∇f‖²=353802.51,‖α*dQP‖²=0.00 \n",
      "iter 39: dis(P)=2.9789544015005114, dis_l2(P)=161.0833978543639, dis(Pi)=4.0,dis_l2(Pi)=161.0833978543639, f(P)=-1374.4583010728181, α=[0.02782802], ‖∇f‖²=357920.34,‖α*dQP‖²=0.01 \n",
      "iter 40: dis(P)=3.030338456868811, dis_l2(P)=160.84490140770293, dis(Pi)=4.0,dis_l2(Pi)=160.84490140770293, f(P)=-1374.5775492961486, α=[0.01503653], ‖∇f‖²=344641.55,‖α*dQP‖²=0.00 \n",
      "iter 41: dis(P)=3.0208555412533142, dis_l2(P)=160.7796713623374, dis(Pi)=4.0,dis_l2(Pi)=160.7796713623374, f(P)=-1374.6101643188313, α=[0.00676307], ‖∇f‖²=355035.25,‖α*dQP‖²=0.00 \n",
      "iter 42: dis(P)=2.978106494043035, dis_l2(P)=160.53915108917852, dis(Pi)=4.0,dis_l2(Pi)=160.53915108917852, f(P)=-1374.7304244554107, α=[0.02945521], ‖∇f‖²=357178.55,‖α*dQP‖²=0.01 \n",
      "iter 43: dis(P)=3.03747592617947, dis_l2(P)=160.22147993805356, dis(Pi)=4.0,dis_l2(Pi)=160.22147993805356, f(P)=-1374.8892600309732, α=[0.01731139], ‖∇f‖²=340888.99,‖α*dQP‖²=0.01 \n",
      "iter 44: dis(P)=3.0276903341419685, dis_l2(P)=160.15228174122305, dis(Pi)=4.0,dis_l2(Pi)=160.15228174122305, f(P)=-1374.9238591293888, α=[0.00688966], ‖∇f‖²=352310.75,‖α*dQP‖²=0.00 \n",
      "iter 45: dis(P)=2.9851918392756063, dis_l2(P)=159.9199473632853, dis(Pi)=4.0,dis_l2(Pi)=159.9199473632853, f(P)=-1375.0400263183574, α=[0.0284305], ‖∇f‖²=354891.55,‖α*dQP‖²=0.01 \n",
      "iter 46: dis(P)=3.032864346095714, dis_l2(P)=159.7168713139504, dis(Pi)=4.0,dis_l2(Pi)=159.7168713139504, f(P)=-1375.1415643430248, α=[0.0141054], ‖∇f‖²=338066.03,‖α*dQP‖²=0.00 \n",
      "iter 47: dis(P)=3.021741619192399, dis_l2(P)=159.62641072349018, dis(Pi)=4.0,dis_l2(Pi)=159.62641072349018, f(P)=-1375.186794638255, α=[0.00801902], ‖∇f‖²=347751.66,‖α*dQP‖²=0.00 \n",
      "iter 48: dis(P)=3.0026074579815587, dis_l2(P)=159.51292876316052, dis(Pi)=4.0,dis_l2(Pi)=159.51292876316052, f(P)=-1375.2435356184199, α=[0.01355827], ‖∇f‖²=351291.59,‖α*dQP‖²=0.00 \n",
      "iter 49: dis(P)=3.0394562469389035, dis_l2(P)=159.40792142564126, dis(Pi)=4.0,dis_l2(Pi)=159.40792142564126, f(P)=-1375.2960392871796, α=[0.01105676], ‖∇f‖²=340697.03,‖α*dQP‖²=0.00 \n",
      "iter 50: dis(P)=3.0316849481503216, dis_l2(P)=159.35483663684968, dis(Pi)=4.0,dis_l2(Pi)=159.35483663684968, f(P)=-1375.322581681575, α=[0.00557938], ‖∇f‖²=349273.40,‖α*dQP‖²=0.00 \n",
      "iter 51: dis(P)=2.9954696551361857, dis_l2(P)=159.14081545129002, dis(Pi)=4.0,dis_l2(Pi)=159.14081545129002, f(P)=-1375.429592274355, α=[0.02522688], ‖∇f‖²=350310.85,‖α*dQP‖²=0.01 \n",
      "iter 52: dis(P)=3.036994397723764, dis_l2(P)=158.99192294101965, dis(Pi)=4.0,dis_l2(Pi)=158.99192294101965, f(P)=-1375.5040385294901, α=[0.01229111], ‖∇f‖²=336549.75,‖α*dQP‖²=0.00 \n",
      "iter 53: dis(P)=3.023204480637608, dis_l2(P)=158.86207968788165, dis(Pi)=4.0,dis_l2(Pi)=158.86207968788165, f(P)=-1375.5689601560593, α=[0.00969513], ‖∇f‖²=344777.00,‖α*dQP‖²=0.00 \n",
      "iter 54: dis(P)=3.0039479165548864, dis_l2(P)=158.76901328812914, dis(Pi)=4.0,dis_l2(Pi)=158.76901328812914, f(P)=-1375.6154933559353, α=[0.01332155], ‖∇f‖²=348559.43,‖α*dQP‖²=0.00 \n",
      "iter 55: dis(P)=3.04353068578057, dis_l2(P)=158.64768348507613, dis(Pi)=4.0,dis_l2(Pi)=158.64768348507613, f(P)=-1375.6761582574618, α=[0.01179612], ‖∇f‖²=340208.14,‖α*dQP‖²=0.00 \n",
      "iter 56: dis(P)=2.9987600406426917, dis_l2(P)=158.38292065320832, dis(Pi)=4.0,dis_l2(Pi)=158.38292065320832, f(P)=-1375.808539673396, α=[0.03056292], ‖∇f‖²=350293.85,‖α*dQP‖²=0.01 \n",
      "iter 57: dis(P)=3.0373868365450907, dis_l2(P)=158.23707379569106, dis(Pi)=4.0,dis_l2(Pi)=158.23707379569106, f(P)=-1375.8814631021544, α=[0.01136158], ‖∇f‖²=332649.38,‖α*dQP‖²=0.00 \n",
      "iter 58: dis(P)=3.0240204817519984, dis_l2(P)=158.10934070283025, dis(Pi)=4.0,dis_l2(Pi)=158.10934070283025, f(P)=-1375.945329648585, α=[0.00920097], ‖∇f‖²=340638.76,‖α*dQP‖²=0.00 \n",
      "iter 59: dis(P)=2.9997190705117887, dis_l2(P)=158.00142579415515, dis(Pi)=4.0,dis_l2(Pi)=158.00142579415515, f(P)=-1375.9992871029226, α=[0.01677999], ‖∇f‖²=344407.25,‖α*dQP‖²=0.00 \n",
      "iter 60: dis(P)=3.036269038121394, dis_l2(P)=157.88706551866557, dis(Pi)=4.0,dis_l2(Pi)=157.88706551866557, f(P)=-1376.0564672406672, α=[0.01081284], ‖∇f‖²=333383.39,‖α*dQP‖²=0.00 \n",
      "iter 61: dis(P)=3.027107114044502, dis_l2(P)=157.83131242790256, dis(Pi)=4.0,dis_l2(Pi)=157.83131242790256, f(P)=-1376.0843437860485, α=[0.00640634], ‖∇f‖²=341915.85,‖α*dQP‖²=0.00 \n",
      "iter 62: dis(P)=2.994096746549635, dis_l2(P)=157.66159582024994, dis(Pi)=4.0,dis_l2(Pi)=157.66159582024994, f(P)=-1376.169202089875, α=[0.0224994], ‖∇f‖²=344935.72,‖α*dQP‖²=0.01 \n",
      "iter 63: dis(P)=3.0358470614594624, dis_l2(P)=157.51650192112922, dis(Pi)=4.0,dis_l2(Pi)=157.51650192112922, f(P)=-1376.2417490394355, α=[0.01223085], ‖∇f‖²=332764.76,‖α*dQP‖²=0.00 \n",
      "iter 64: dis(P)=3.0273327446159315, dis_l2(P)=157.46800264262527, dis(Pi)=4.0,dis_l2(Pi)=157.46800264262527, f(P)=-1376.2659986786875, α=[0.00588734], ‖∇f‖²=341831.29,‖α*dQP‖²=0.00 \n",
      "iter 65: dis(P)=2.997493710061683, dis_l2(P)=157.31760474529295, dis(Pi)=4.0,dis_l2(Pi)=157.31760474529295, f(P)=-1376.3411976273537, α=[0.02017602], ‖∇f‖²=344153.55,‖α*dQP‖²=0.00 \n",
      "iter 66: dis(P)=3.0383039030653727, dis_l2(P)=157.18053430925147, dis(Pi)=4.0,dis_l2(Pi)=157.18053430925147, f(P)=-1376.4097328453743, α=[0.01195805], ‖∇f‖²=332580.50,‖α*dQP‖²=0.00 \n"
     ]
    },
    {
     "name": "stdout",
     "output_type": "stream",
     "text": [
      "iter 67: dis(P)=3.008538101476587, dis_l2(P)=157.03509074883632, dis(Pi)=4.0,dis_l2(Pi)=157.03509074883632, f(P)=-1376.4824546255818, α=[0.02010532], ‖∇f‖²=341812.10,‖α*dQP‖²=0.00 \n",
      "iter 68: dis(P)=3.0387113693424364, dis_l2(P)=156.9601085315553, dis(Pi)=4.0,dis_l2(Pi)=156.9601085315553, f(P)=-1376.5199457342223, α=[0.00889952], ‖∇f‖²=329391.77,‖α*dQP‖²=0.00 \n",
      "iter 69: dis(P)=3.027615142012515, dis_l2(P)=156.88284151837135, dis(Pi)=4.0,dis_l2(Pi)=156.88284151837135, f(P)=-1376.5585792408142, α=[0.00754799], ‖∇f‖²=336144.38,‖α*dQP‖²=0.00 \n",
      "iter 70: dis(P)=3.0018022547669214, dis_l2(P)=156.77206198848478, dis(Pi)=4.0,dis_l2(Pi)=156.77206198848478, f(P)=-1376.6139690057576, α=[0.0172354], ‖∇f‖²=338863.03,‖α*dQP‖²=0.00 \n",
      "iter 71: dis(P)=3.0403196422215277, dis_l2(P)=156.6519117770475, dis(Pi)=4.0,dis_l2(Pi)=156.6519117770475, f(P)=-1376.6740441114762, α=[0.0112695], ‖∇f‖²=330230.12,‖α*dQP‖²=0.00 \n",
      "iter 72: dis(P)=3.0321301038949886, dis_l2(P)=156.60939770628377, dis(Pi)=4.0,dis_l2(Pi)=156.60939770628377, f(P)=-1376.6953011468581, α=[0.00554481], ‖∇f‖²=338309.97,‖α*dQP‖²=0.00 \n",
      "iter 73: dis(P)=2.9989336530146242, dis_l2(P)=156.45991934552558, dis(Pi)=4.0,dis_l2(Pi)=156.45991934552558, f(P)=-1376.770040327237, α=[0.02196119], ‖∇f‖²=340601.04,‖α*dQP‖²=0.00 \n",
      "iter 74: dis(P)=3.0357068727216654, dis_l2(P)=156.34022266738882, dis(Pi)=4.0,dis_l2(Pi)=156.34022266738882, f(P)=-1376.8298886663058, α=[0.01066959], ‖∇f‖²=327954.17,‖α*dQP‖²=0.00 \n",
      "iter 75: dis(P)=3.0275037786164845, dis_l2(P)=156.29554545123545, dis(Pi)=4.0,dis_l2(Pi)=156.29554545123545, f(P)=-1376.8522272743824, α=[0.00549673], ‖∇f‖²=335347.11,‖α*dQP‖²=0.00 \n",
      "iter 76: dis(P)=3.021752496377018, dis_l2(P)=156.2699287969997, dis(Pi)=4.0,dis_l2(Pi)=156.2699287969997, f(P)=-1376.8650356015, α=[0.00383795], ‖∇f‖²=337522.45,‖α*dQP‖²=0.00 \n",
      "iter 77: dis(P)=3.0452424507075184, dis_l2(P)=156.22703567394007, dis(Pi)=4.0,dis_l2(Pi)=156.22703567394007, f(P)=-1376.88648216303, α=[0.00697704], ‖∇f‖²=338313.23,‖α*dQP‖²=0.00 \n",
      "iter 78: dis(P)=3.010400501306282, dis_l2(P)=156.06485242595988, dis(Pi)=4.0,dis_l2(Pi)=156.06485242595988, f(P)=-1376.9675737870202, α=[0.02298815], ‖∇f‖²=344517.99,‖α*dQP‖²=0.01 \n",
      "iter 79: dis(P)=3.04189196568758, dis_l2(P)=155.98043698381235, dis(Pi)=4.0,dis_l2(Pi)=155.98043698381235, f(P)=-1377.009781508094, α=[0.0092227], ‖∇f‖²=333140.94,‖α*dQP‖²=0.00 \n",
      "iter 80: dis(P)=3.0315723572321844, dis_l2(P)=155.9176460006783, dis(Pi)=4.0,dis_l2(Pi)=155.9176460006783, f(P)=-1377.041176999661, α=[0.00687043], ‖∇f‖²=339278.31,‖α*dQP‖²=0.00 \n",
      "iter 81: dis(P)=3.0109962423653167, dis_l2(P)=155.8273774297192, dis(Pi)=4.0,dis_l2(Pi)=155.8273774297192, f(P)=-1377.0863112851403, α=[0.01351065], ‖∇f‖²=341668.00,‖α*dQP‖²=0.00 \n",
      "iter 82: dis(P)=3.042155619277721, dis_l2(P)=155.74769911366866, dis(Pi)=4.0,dis_l2(Pi)=155.74769911366866, f(P)=-1377.1261504431657, α=[0.00911188], ‖∇f‖²=331440.69,‖α*dQP‖²=0.00 \n",
      "iter 83: dis(P)=3.0050731881876094, dis_l2(P)=155.57999668276295, dis(Pi)=4.0,dis_l2(Pi)=155.57999668276295, f(P)=-1377.2100016586185, α=[0.02414563], ‖∇f‖²=338789.41,‖α*dQP‖²=0.00 \n",
      "iter 84: dis(P)=3.0324201805274766, dis_l2(P)=155.50723383328017, dis(Pi)=4.0,dis_l2(Pi)=155.50723383328017, f(P)=-1377.24638308336, α=[0.00789623], ‖∇f‖²=326987.01,‖α*dQP‖²=0.00 \n",
      "iter 85: dis(P)=3.021743384430994, dis_l2(P)=155.44119772196188, dis(Pi)=4.0,dis_l2(Pi)=155.44119772196188, f(P)=-1377.279401139019, α=[0.00700035], ‖∇f‖²=333026.29,‖α*dQP‖²=0.00 \n",
      "iter 86: dis(P)=3.0434030004616957, dis_l2(P)=155.40304229997014, dis(Pi)=4.0,dis_l2(Pi)=155.40304229997014, f(P)=-1377.298478850015, α=[0.0063763], ‖∇f‖²=335273.57,‖α*dQP‖²=0.00 \n",
      "iter 87: dis(P)=3.01201708779271, dis_l2(P)=155.27573251305594, dis(Pi)=4.0,dis_l2(Pi)=155.27573251305594, f(P)=-1377.362133743472, α=[0.0203907], ‖∇f‖²=339790.07,‖α*dQP‖²=0.00 \n",
      "iter 88: dis(P)=3.038325289890003, dis_l2(P)=155.21755711120068, dis(Pi)=4.0,dis_l2(Pi)=155.21755711120068, f(P)=-1377.3912214443994, α=[0.00764612], ‖∇f‖²=328450.17,‖α*dQP‖²=0.00 \n",
      "iter 89: dis(P)=3.0278051036641753, dis_l2(P)=155.15268596171614, dis(Pi)=4.0,dis_l2(Pi)=155.15268596171614, f(P)=-1377.4236570191417, α=[0.00688116], ‖∇f‖²=333685.19,‖α*dQP‖²=0.00 \n",
      "iter 90: dis(P)=3.0321774480469217, dis_l2(P)=155.099982223974, dis(Pi)=4.0,dis_l2(Pi)=155.099982223974, f(P)=-1377.4500088880131, α=[0.0100232], ‖∇f‖²=336527.56,‖α*dQP‖²=0.00 \n",
      "iter 91: dis(P)=3.0605419338056783, dis_l2(P)=155.0352200320694, dis(Pi)=4.0,dis_l2(Pi)=155.0352200320694, f(P)=-1377.4823899839653, α=[0.00829322], ‖∇f‖²=330186.69,‖α*dQP‖²=0.00 \n",
      "iter 92: dis(P)=3.0298409237238766, dis_l2(P)=154.9155053170978, dis(Pi)=4.0,dis_l2(Pi)=154.9155053170978, f(P)=-1377.542247341451, α=[0.01954924], ‖∇f‖²=336947.59,‖α*dQP‖²=0.00 \n",
      "iter 93: dis(P)=3.056205608031493, dis_l2(P)=154.85972653640013, dis(Pi)=4.0,dis_l2(Pi)=154.85972653640013, f(P)=-1377.5701367318, α=[0.00766746], ‖∇f‖²=326250.89,‖α*dQP‖²=0.00 \n",
      "iter 94: dis(P)=3.046109368816372, dis_l2(P)=154.80321922617873, dis(Pi)=4.0,dis_l2(Pi)=154.80321922617873, f(P)=-1377.5983903869105, α=[0.00647835], ‖∇f‖²=332456.21,‖α*dQP‖²=0.00 \n",
      "iter 95: dis(P)=3.0277765177558345, dis_l2(P)=154.74113105441302, dis(Pi)=4.0,dis_l2(Pi)=154.74113105441302, f(P)=-1377.6294344727935, α=[0.01163708], ‖∇f‖²=334495.50,‖α*dQP‖²=0.00 \n",
      "iter 96: dis(P)=3.05898092867617, dis_l2(P)=154.66605355280865, dis(Pi)=4.0,dis_l2(Pi)=154.66605355280865, f(P)=-1377.666973223596, α=[0.00906617], ‖∇f‖²=326714.59,‖α*dQP‖²=0.00 \n",
      "iter 97: dis(P)=3.0519887462285022, dis_l2(P)=154.63588145023897, dis(Pi)=4.0,dis_l2(Pi)=154.63588145023897, f(P)=-1377.6820592748804, α=[0.00449066], ‖∇f‖²=333783.27,‖α*dQP‖²=0.00 \n",
      "iter 98: dis(P)=3.0209709619751646, dis_l2(P)=154.51868333688236, dis(Pi)=4.0,dis_l2(Pi)=154.51868333688236, f(P)=-1377.7406583315587, α=[0.0195567], ‖∇f‖²=336012.04,‖α*dQP‖²=0.00 \n",
      "iter 99: dis(P)=3.056281611258699, dis_l2(P)=154.42582917404627, dis(Pi)=4.0,dis_l2(Pi)=154.42582917404627, f(P)=-1377.787085412977, α=[0.01017651], ‖∇f‖²=325255.92,‖α*dQP‖²=0.00 \n",
      "4.0 0.0 -2802.0 -2910.0\n"
     ]
    },
    {
     "data": {
      "text/plain": [
       "(-2380.0, -2910.0)"
      ]
     },
     "execution_count": 1032,
     "metadata": {},
     "output_type": "execute_result"
    }
   ],
   "source": [
    "# Shows that minimization diverges from initially correct mapping (this time it's b/c of |Y| > |X|:\n",
    "# argmin ‖DX - P@DY@P.T‖² = argmin -2<P, DX@P@DY> + ‖P@DY@P.T‖² != argmin -<P, DX@P@DY>).\n",
    "# Using 'sq+' instead of 'sq' seems to fix it.\n",
    "f, grad_f, alpha_jac, alpha_hess = def_functions_for_frank_wolfe(DX, DY, 'sq')\n",
    "dis_ = partial(dis, DX=DX, DY=DY)\n",
    "dis_l2_ = partial(dis_l2, DX=DX, DY=DY)\n",
    "Pi_from_Pi0 = frank_wolfe(\n",
    "    len(DX), len(DY), f, grad_f, alpha_jac, alpha_hess, dis_, dis_l2_,\n",
    "    P0=Pi0,\n",
    "    max_iter=max_iter, is_inj=True, verbose=True)\n",
    "print(dis_(Pi_from_Pi0), dis_(Pi0), np.sum(Pi_from_Pi0 * (-DX@Pi_from_Pi0@DY)), np.sum(Pi0 * (-DX@Pi0@DY)))\n",
    "2*np.sum(Pi_from_Pi0 * (-DX@Pi_from_Pi0@DY)) + np.sum((Pi_from_Pi0@DY@Pi_from_Pi0.T)**2), 2*np.sum(Pi0 * (-DX@Pi0@DY)) + np.sum((Pi0@DY@Pi0.T)**2)"
   ]
  },
  {
   "cell_type": "code",
   "execution_count": 581,
   "metadata": {},
   "outputs": [
    {
     "data": {
      "text/plain": [
       "(array([18,  0,  5, 14,  6, 17,  3, 11, 20, 13,  1, 12,  9, 10, 19, 15,  8,\n",
       "         2,  4, 16]),\n",
       " array([20,  0,  5, 14,  6, 17,  3, 11, 18, 19,  1, 12,  9, 10, 13, 15,  8,\n",
       "         2,  4, 16]))"
      ]
     },
     "execution_count": 581,
     "metadata": {},
     "output_type": "execute_result"
    }
   ],
   "source": [
    "P2p(Pi), P2p(Pi_XY)"
   ]
  },
  {
   "cell_type": "code",
   "execution_count": 662,
   "metadata": {},
   "outputs": [
    {
     "name": "stdout",
     "output_type": "stream",
     "text": [
      "----------INIT dis(P)=4.10, dis(Pi)=4.1, f(P)=-2870.2\n",
      "----------STOP α=[0.5], ‖∇f‖²=26643304.84, ‖α*dQP‖²=0.00 \n",
      "4.1 0.0 -2870.2 -2910.0\n"
     ]
    }
   ],
   "source": [
    "f, grad_f, alpha_jac, alpha_hess = def_functions_for_frank_wolfe(DX, DY, 'sq')\n",
    "dis_ = partial(dis, DX=DX, DY=DY)\n",
    "Pi = frank_wolfe(\n",
    "    len(DX), len(DY), f, grad_f, alpha_jac, alpha_hess, dis_,\n",
    "    P0=Pi_from_center,\n",
    "    max_iter=max_iter, is_inj=True, verbose=True)\n",
    "print(dis_(Pi), dis_(Pi0), np.sum(Pi * (-DX@Pi@DY)), np.sum(Pi0 * (-DX@Pi0@DY)))"
   ]
  }
 ],
 "metadata": {
  "kernelspec": {
   "display_name": "Python 3",
   "language": "python",
   "name": "python3"
  },
  "language_info": {
   "codemirror_mode": {
    "name": "ipython",
    "version": 3
   },
   "file_extension": ".py",
   "mimetype": "text/x-python",
   "name": "python",
   "nbconvert_exporter": "python",
   "pygments_lexer": "ipython3",
   "version": "3.7.6"
  }
 },
 "nbformat": 4,
 "nbformat_minor": 4
}
