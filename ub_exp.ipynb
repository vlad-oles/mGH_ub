{
 "cells": [
  {
   "cell_type": "code",
   "execution_count": 1,
   "metadata": {},
   "outputs": [],
   "source": [
    "import networkx as nx\n",
    "import numpy as np\n",
    "from itertools import permutations, product\n",
    "from functools import partial\n",
    "import scipy.sparse as sps\n",
    "import scipy.linalg as la\n",
    "from scipy.optimize import minimize, linear_sum_assignment, LinearConstraint, Bounds\n",
    "import sys, time\n",
    "sys.path.insert(1, '/home/me/persim-fork/persim')\n",
    "from gromov_hausdorff import estimate, find_lb, find_ub, find_ub_of_min_distortion"
   ]
  },
  {
   "cell_type": "code",
   "execution_count": 849,
   "metadata": {},
   "outputs": [],
   "source": [
    "def generate_graph(n, p, enforce_n=False):\n",
    "    while True:\n",
    "        G = nx.erdos_renyi_graph(n, p)\n",
    "        cc = list(max(nx.connected_components(G), key=len))\n",
    "        if len(cc) == n or not enforce_n:\n",
    "            A = nx.to_numpy_array(G)[np.ix_(cc, cc)]\n",
    "            break\n",
    "    \n",
    "    D = sps.csgraph.shortest_path(A, directed=False, unweighted=True)\n",
    "    \n",
    "    return A, D\n",
    "\n",
    "\n",
    "def pi2Pi(pi, m): # {1,…,m}^n → {0,1}^n×m\n",
    "    return np.identity(m)[pi]\n",
    "\n",
    "\n",
    "def Pi2pi(Pi): #{0,1}^n×m → {1,…,m}^n\n",
    "    return np.argmax(Pi, axis=1)\n",
    "\n",
    "\n",
    "def project_P(P): #row-stochastic [0,1]^n×m → {0,1}^n×m \n",
    "    return pi2Pi(Pi2pi(P), P.shape[1])\n",
    "\n",
    "\n",
    "def dis(Pi, DX, DY):\n",
    "    return np.abs(DX - Pi @ DY @ Pi.T).max()\n",
    "\n",
    "\n",
    "def dis_l2(Pi, DX, DY):\n",
    "    return ((DX - Pi @ DY @ Pi.T)**2).sum()\n",
    "\n",
    "\n",
    "def build_heat_kernel(A, t=1):\n",
    "    lambdas, Phi = la.eigh(sps.csgraph.laplacian(A))\n",
    "    return Phi @ np.diagflat(np.exp(-t * lambdas)) @ Phi.T\n",
    "\n",
    "\n",
    "def compile_performance(n, p, max_iter, inj, size, f_type, mx_type, show_graph_properties=True):\n",
    "    perf = performance.get((n, p, max_iter, inj, size, f_type, mx_type), None)\n",
    "    perf_desc = f\"{perf['acc']:.1%} correct in {perf['time']:.0f}s\" if perf else '-'*10\n",
    "    if show_graph_properties and perf:\n",
    "        perf_desc += f\" (N={perf['order']}, diam={perf['diam']})\"\n",
    "#     print('n={}, p={}, max_iter={}, {}, {}, {}: {:.0%} correct ({} graph pairs of avg. n={:.1f} & diam={:.1f}) in {:.0f}s'.format(\n",
    "#         n, p, max_iter, injs[inj], f_types[f_type], mx_types[mx_type], perf['acc'], N, perf['order'], perf['diam'], perf['time']))\n",
    "    return (f'n={n}, p={p}, max_iter={max_iter}, {inj_dict[inj]}, {size_dict[size]}, {f_type_dict[f_type]}'\n",
    "            f', {mx_type_dict[mx_type]}: {perf_desc}')\n",
    " "
   ]
  },
  {
   "cell_type": "code",
   "execution_count": 1014,
   "metadata": {},
   "outputs": [],
   "source": [
    "def perturb_pi_XY(pi_XY, rand_n):\n",
    "    pi_XY_perturbed = pi_XY.copy()\n",
    "    indexes = np.random.choice(len(pi_XY), rand_n, replace=False)\n",
    "    pi_XY_perturbed[indexes] = pi_XY_perturbed[indexes][np.random.permutation(rand_n)]\n",
    "    \n",
    "    return pi_XY_perturbed\n",
    "\n",
    "\n",
    "# Frank-Wolfe algoritm.\n",
    "def minimize_over_Pi(n, m, f, grad, alpha_jac, alpha_hess, dis_, dis_l2_, P0=None,\n",
    "                     tol=1e-8, max_iter=100, verbose=True, is_inj=False):\n",
    "    if P0 is None:\n",
    "        P = np.full((n, m), 1/m)\n",
    "    elif P0.shape == (n, m):\n",
    "        P = P0.copy()\n",
    "    elif P0.shape == (m, n):\n",
    "        P = P0.T\n",
    "        P[np.all(P == 0, axis=1)] = 1/m\n",
    "    else:\n",
    "        raise ValueError('P0 has shape {} for n={}, m={}'.format(P0.shape, n, m))\n",
    "        \n",
    "    if is_inj:\n",
    "        assert n <= m\n",
    "\n",
    "    #P = np.full((n, m), 1/m) if P0 is None else P0 # barycenter init (!! consider randomizing it as in FAQ?)\n",
    "    if verbose:\n",
    "        Pi = project_P(P)\n",
    "        print('-'*10 + f'INIT dis(P)={dis_(P)}, dis_l2(P)={dis_l2_(P)}, dis(Pi)={dis_(Pi)},'\n",
    "              f'dis_l2(Pi)={dis_l2_(P)}, f(P)={f(P)}')\n",
    "\n",
    "    for i in range(max_iter):\n",
    "        grad_at_P = grad(P)\n",
    "            \n",
    "        if is_inj: # injectivity assumes n ≤ m\n",
    "            #Q = np.full((n, m), 1/m)\n",
    "            #r, c = linear_sum_assignment(grad_at_P)\n",
    "            #Q[r] = pi2Pi(c, m)\n",
    "            Q = pi2Pi(linear_sum_assignment(grad_at_P)[1], m)\n",
    "        else:\n",
    "            Q = pi2Pi(np.argmin(grad_at_P, axis=1), m)\n",
    "        dQP = Q - P\n",
    "        \n",
    "        res = minimize(lambda x: f(P + x*dQP), 0.5, bounds=[(0, 1)],\n",
    "                       jac=lambda x: alpha_jac(x, P, dQP))#, hess=lambda x: alpha_hess(x, P, Q))\n",
    "        alpha = res.x\n",
    "        \n",
    "        grad_norm = np.sum(grad_at_P**2)\n",
    "        alpha_dQP = alpha*dQP\n",
    "        alpha_dQP_norm = np.sum((alpha*dQP)**2)\n",
    "        if grad_norm < tol or alpha_dQP_norm < tol:\n",
    "            if verbose:\n",
    "                print('-'*10 + f'STOP α={alpha}, ‖∇f‖²={grad_norm:.2f}, ‖α*dQP‖²={alpha_dQP_norm:.2f}',\n",
    "                      '' if res.success else '(FAILURE)')\n",
    "            break\n",
    "                  \n",
    "        try:\n",
    "            assert np.allclose(np.sum(P + alpha_dQP, axis=1), np.ones(n))\n",
    "        except AssertionError:\n",
    "            print(P, alpha, dQP)\n",
    "            raise AssertionError\n",
    "        \n",
    "        P += alpha_dQP\n",
    "        if verbose:\n",
    "            Pi = project_P(P)\n",
    "            print(f'iter {i}: dis(P)={dis_(P)}, dis_l2(P)={dis_l2_(P)}, dis(Pi)={dis_(Pi)},'\n",
    "                  f'dis_l2(Pi)={dis_l2_(P)}, f(P)={f(P)}, α={alpha}, ‖∇f‖²={grad_norm:.2f},'\n",
    "                  f'‖α*dQP‖²={alpha_dQP_norm:.2f}', '' if res.success else '(FAILURE)')\n",
    "        \n",
    "    return project_P(P)\n",
    "\n",
    "\n",
    "def def_functions_for_frank_wolfe(X, Y, f_type):\n",
    "    if f_type == 'sq': #'‖Δ‖²'\n",
    "        def S(P):\n",
    "            return -X@P@Y\n",
    "    elif f_type == 'sq+': #'‖Δ‖² for non-surj'\n",
    "        def S(P):\n",
    "            return -X@P@Y + .5*P@Y@P.T@P@Y\n",
    "    elif f_type in {'exp', 'mix', 'mix+'}: #'‖e^|Δ|‖_1'\n",
    "        def S(P):\n",
    "            return np.e**X@P@np.e**-Y + np.e**-X@P@np.e**Y\n",
    "    elif f_type == 'c_exp': #'‖c^|Δ|‖_1'\n",
    "        delta = .1 # smallest positive |d_X(x, x') - d_Y(y, y')|\n",
    "        c = (len(X)**2 + 1)**(1/delta) # so that argmin ‖c^|Δ|‖_1 = argmin ‖Δ‖_∞\n",
    "        c = (len(X)/2 + 1)**(1/delta)\n",
    "        def S(P):\n",
    "            return c**X@P@2**-Y + c**-X@P@2**Y\n",
    "    else:\n",
    "        raise ValueError('unknown f_type, Vlad')\n",
    "\n",
    "    def f(P):\n",
    "        return np.sum(P * S(P))\n",
    "\n",
    "    def grad(P):\n",
    "        if f_type == 'sq+':\n",
    "            #return 2 * (-X@P@Y + np.sum(P@Y@P.T, axis=0)[:, None] * (P@Y))\n",
    "            return 2 * (-X@P@Y + P@Y@P.T@P@Y)\n",
    "        else:\n",
    "            return 2*S(P)\n",
    "\n",
    "    def alpha_jac(alpha, P, d): # d is dQP = Q - P\n",
    "        if f_type == 'sq+':            \n",
    "            Pxd = P.T@d\n",
    "            YPPY = Y@P.T@P@Y\n",
    "            YPdY = Y@(Pxd + Pxd.T)@Y\n",
    "            YddY = Y@d.T@d@Y\n",
    "            return 2*alpha**3*np.sum(d * (d@YddY)) +\\\n",
    "                1.5*alpha**2*(np.sum(d*(P@YddY)) + np.sum(P*(d@YddY)) + np.sum(d*(d@YPdY))) +\\\n",
    "                alpha*(np.sum(P*(P@YddY)) + np.sum(d*(P@YPdY)) + np.sum(P*(d@YPdY)) + np.sum(d*(d@YPPY))) +\\\n",
    "                .5*(np.sum(P*(P@YPdY)) + np.sum(d*(P@YPPY)) + np.sum(P*(d@YPPY))) +\\\n",
    "                np.sum(d*(-X@P@Y)) + np.sum(P*(-X@d@Y)) + 2*alpha*np.sum(d*(-X@d@Y))\n",
    "        else:\n",
    "            return np.sum(d * S(P)) + np.sum(P * S(d)) + 2*alpha*np.sum(d * S(d))\n",
    "\n",
    "    def alpha_hess(alpha, P, d): # d is dQP = Q - P\n",
    "        if f_type == 'sq+':\n",
    "            Pxd = P.T@d\n",
    "            YPPY = Y@P.T@P@Y\n",
    "            YPdY = Y@(Pxd + Pxd.T)@Y\n",
    "            YddY = Y@d.T@d@Y\n",
    "            return 6*alpha**2*np.sum(d * (d@YddY)) +\\\n",
    "                3*alpha*(np.sum(d*(P@YddY)) + np.sum(P*(d@YddY)) + np.sum(d*(d@YPdY))) +\\\n",
    "                np.sum(P*(P@YddY)) + np.sum(d*(P@YPdY)) + np.sum(P*(d@YPdY)) + np.sum(d*(d@YPPY)) +\\\n",
    "                2*np.sum(d*(-X@d@Y))\n",
    "        else:\n",
    "            return 2*np.sum(d * S(d))\n",
    "\n",
    "    return f, grad, alpha_jac, alpha_hess\n",
    "    \n",
    "\n",
    "def find_ub_XY(X, Y, DX, DY, f_type, max_iter, inj, verbose):\n",
    "    f_XY, grad_XY, alpha_jac_XY, alpha_hess_XY = def_functions_for_frank_wolfe(X, Y, f_type)\n",
    "    dis_XY = partial(dis, DX=DX, DY=DY)\n",
    "    dis_l2_XY = partial(dis_l2, DX=DX, DY=DY)\n",
    "    minimize_over_Pi_XY = partial(\n",
    "        minimize_over_Pi, n=len(X), m=len(Y), f=f_XY, grad=grad_XY, dis_=dis_XY, dis_l2_=dis_l2_XY,\n",
    "        alpha_jac=alpha_jac_XY, alpha_hess=alpha_hess_XY, max_iter=max_iter, verbose=verbose)\n",
    "    \n",
    "    if inj == -1:\n",
    "        Pi_XY = minimize_over_Pi_XY(is_inj=False)\n",
    "        ub = dis_XY(Pi_XY) / 2\n",
    "        inj_ub = np.nan\n",
    "    else:\n",
    "        if f_type.startswith('mix'):\n",
    "            first_f_type = 'sq' if f_type == 'mix' else 'sq+'\n",
    "            inj_Pi = minimize_over_Pi(\n",
    "                len(X), len(Y), *def_functions_for_frank_wolfe(X, Y, first_f_type), is_inj=True,\n",
    "                dis_=dis_XY, dis_l2_=dis_l2_XY, max_iter=max_iter, verbose=verbose)\n",
    "        else:\n",
    "            inj_Pi = minimize_over_Pi_XY(is_inj=True)\n",
    "            \n",
    "        inj_ub = dis_XY(inj_Pi) / 2\n",
    "        #print('inj ub is ', inj_ub)\n",
    "        if inj == 0:\n",
    "            Pi_XY = minimize_over_Pi_XY(P0=inj_Pi, is_inj=False)\n",
    "            ub = dis_XY(Pi_XY) / 2\n",
    "        elif inj == 1:\n",
    "            ub = np.nan\n",
    "            Pi_XY = inj_Pi\n",
    "\n",
    "    return inj_ub, ub, Pi_XY\n",
    "\n",
    "\n",
    "def find_ub_FAQ(X, Y, DX, DY, f_type, max_iter, inj, verbose):\n",
    "    if len(X) > len(Y): # ensure |X| ≤ |Y|\n",
    "        X, Y = Y, X\n",
    "        DX, DY = DY, DX\n",
    "    \n",
    "    f_XY, grad_XY, alpha_jac_XY, alpha_hess_XY = def_functions_for_frank_wolfe(X, Y, f_type)\n",
    "    f_YX, grad_YX, alpha_jac_YX, alpha_hess_YX = def_functions_for_frank_wolfe(Y, X, f_type)\n",
    "    dis_XY = partial(dis, DX=DX, DY=DY)\n",
    "    dis_YX = partial(dis, DX=DY, DY=DX)\n",
    "    minimize_over_Pi_XY = partial(\n",
    "        minimize_over_Pi, n=len(X), m=len(Y), f=f_XY, grad=grad_XY, dis_=dis_XY,\n",
    "        alpha_jac=alpha_jac_XY, alpha_hess=alpha_hess_XY, max_iter=max_iter, verbose=verbose)\n",
    "    minimize_over_Pi_YX = partial(\n",
    "        minimize_over_Pi, n=len(Y), m=len(X), f=f_YX, grad=grad_YX, dis_=dis_YX,\n",
    "        alpha_jac=alpha_jac_YX, alpha_hess=alpha_hess_YX, max_iter=max_iter, verbose=verbose)\n",
    "    \n",
    "    if inj == -1:\n",
    "        Pi_XY = minimize_over_Pi_XY(is_inj=False)\n",
    "        Pi_YX = minimize_over_Pi_YX(is_inj=False)\n",
    "        ub = max(dis_XY(Pi_XY), dis_YX(Pi_YX)) / 2\n",
    "        inj_ub = np.nan\n",
    "    else:\n",
    "        if f_type == 'mix':\n",
    "            inj_Pi = minimize_over_Pi(len(X), len(Y), *def_functions_for_frank_wolfe(X, Y, 'sq'),\n",
    "                                      is_inj=True, dis_=dis_XY, max_iter=max_iter, verbose=verbose)\n",
    "        else:\n",
    "            inj_Pi = minimize_over_Pi_XY(is_inj=True)\n",
    "            \n",
    "        inj_ub = dis_XY(inj_Pi) / 2\n",
    "        print('inj ub is ', inj_ub)\n",
    "        if inj == 0:\n",
    "            Pi_XY = minimize_over_Pi_XY(P0=inj_Pi, is_inj=False)\n",
    "            Pi_YX = minimize_over_Pi_YX(P0=inj_Pi, is_inj=False)\n",
    "            ub = max(dis_XY(Pi_XY), dis_YX(Pi_YX)) / 2\n",
    "        elif inj == 1:\n",
    "            ub = np.nan\n",
    "            Pi_XY = Pi_YX = inj_Pi\n",
    "    \n",
    "    return inj_ub, ub, Pi_XY, Pi_YX\n"
   ]
  },
  {
   "cell_type": "code",
   "execution_count": 1018,
   "metadata": {},
   "outputs": [],
   "source": [
    "all_ns = [1000, 100, 10]\n",
    "all_ps = [.01, .05, .1]\n",
    "all_max_iters = [100, 500]\n",
    "inj_dict = {-1: 'non-inj', 0: 'inj→non', 1: 'inj'}\n",
    "size_dict = {-1: 'X>Y', 0: 'X=Y', 1: 'X<Y'}\n",
    "f_type_dict = {'sq': '‖Δ‖²', 'sq+': '‖Δ‖²+', 'exp': '‖e^|Δ|‖_1', 'c_exp': '‖c^|Δ|‖_1', 'mix': '‖Δ‖²→‖e^|Δ|‖', \n",
    "               'mix+': '‖Δ‖²+→‖e^|Δ|‖'}\n",
    "mx_type_dict = {0: 'AX,AY', 1: 'DX,DY'}"
   ]
  },
  {
   "cell_type": "code",
   "execution_count": 1019,
   "metadata": {},
   "outputs": [],
   "source": [
    "performance = dict()"
   ]
  },
  {
   "cell_type": "code",
   "execution_count": null,
   "metadata": {},
   "outputs": [
    {
     "name": "stdout",
     "output_type": "stream",
     "text": [
      "DONE 1/60: n=10, p=0.25, max_iter=100, inj→non, X<Y, ‖Δ‖², AX,AY: 0.0% correct in 0s (N=8.52, diam=4.24)\n",
      "DONE 2/60: n=10, p=0.25, max_iter=100, inj→non, X<Y, ‖Δ‖², DX,DY: 0.0% correct in 0s (N=8.52, diam=4.24)\n",
      "DONE 3/60: n=10, p=0.25, max_iter=100, inj→non, X<Y, ‖Δ‖²+, AX,AY: 52.0% correct in 6s (N=8.52, diam=4.24)\n",
      "DONE 4/60: n=10, p=0.25, max_iter=100, inj→non, X<Y, ‖Δ‖²+, DX,DY: 90.0% correct in 2s (N=8.52, diam=4.24)\n",
      "DONE 5/60: n=10, p=0.25, max_iter=100, inj→non, X<Y, ‖e^|Δ|‖_1, AX,AY: 26.0% correct in 0s (N=8.52, diam=4.24)\n",
      "DONE 6/60: n=10, p=0.25, max_iter=100, inj→non, X<Y, ‖e^|Δ|‖_1, DX,DY: 62.0% correct in 0s (N=8.52, diam=4.24)\n",
      "DONE 7/60: n=10, p=0.25, max_iter=100, inj→non, X<Y, ‖Δ‖²→‖e^|Δ|‖, AX,AY: 4.0% correct in 1s (N=8.52, diam=4.24)\n",
      "DONE 8/60: n=10, p=0.25, max_iter=100, inj→non, X<Y, ‖Δ‖²→‖e^|Δ|‖, DX,DY: 0.0% correct in 0s (N=8.52, diam=4.24)\n",
      "DONE 9/60: n=10, p=0.25, max_iter=100, inj→non, X<Y, ‖Δ‖²+→‖e^|Δ|‖, AX,AY: 28.0% correct in 3s (N=8.52, diam=4.24)\n",
      "DONE 10/60: n=10, p=0.25, max_iter=100, inj→non, X<Y, ‖Δ‖²+→‖e^|Δ|‖, DX,DY: 90.0% correct in 1s (N=8.52, diam=4.24)\n",
      "DONE 11/60: n=10, p=0.25, max_iter=100, inj, X<Y, ‖Δ‖², AX,AY: 0.0% correct in 0s (N=8.52, diam=4.24)\n",
      "DONE 12/60: n=10, p=0.25, max_iter=100, inj, X<Y, ‖Δ‖², DX,DY: 0.0% correct in 0s (N=8.52, diam=4.24)\n",
      "DONE 13/60: n=10, p=0.25, max_iter=100, inj, X<Y, ‖Δ‖²+, AX,AY: 50.0% correct in 3s (N=8.52, diam=4.24)\n",
      "DONE 14/60: n=10, p=0.25, max_iter=100, inj, X<Y, ‖Δ‖²+, DX,DY: 90.0% correct in 1s (N=8.52, diam=4.24)\n",
      "DONE 15/60: n=10, p=0.25, max_iter=100, inj, X<Y, ‖e^|Δ|‖_1, AX,AY: 54.0% correct in 0s (N=8.52, diam=4.24)\n",
      "DONE 16/60: n=10, p=0.25, max_iter=100, inj, X<Y, ‖e^|Δ|‖_1, DX,DY: 52.0% correct in 0s (N=8.52, diam=4.24)\n",
      "SKIPPING 17 n=10, p=0.25, max_iter=100, inj, X<Y, ‖Δ‖²→‖e^|Δ|‖, AX,AY: ----------\n",
      "SKIPPING 18 n=10, p=0.25, max_iter=100, inj, X<Y, ‖Δ‖²→‖e^|Δ|‖, DX,DY: ----------\n",
      "DONE 19/60: n=10, p=0.25, max_iter=100, inj, X<Y, ‖Δ‖²+→‖e^|Δ|‖, AX,AY: 50.0% correct in 3s (N=8.52, diam=4.24)\n",
      "DONE 20/60: n=10, p=0.25, max_iter=100, inj, X<Y, ‖Δ‖²+→‖e^|Δ|‖, DX,DY: 90.0% correct in 1s (N=8.52, diam=4.24)\n",
      "DONE 21/60: n=100, p=0.05, max_iter=100, inj→non, X<Y, ‖Δ‖², AX,AY: 0.0% correct in 18s (N=99.28, diam=6.18)\n",
      "DONE 22/60: n=100, p=0.05, max_iter=100, inj→non, X<Y, ‖Δ‖², DX,DY: 0.0% correct in 18s (N=99.28, diam=6.18)\n",
      "DONE 23/60: n=100, p=0.05, max_iter=100, inj→non, X<Y, ‖Δ‖²+, AX,AY: 84.0% correct in 98s (N=99.28, diam=6.18)\n",
      "DONE 24/60: n=100, p=0.05, max_iter=100, inj→non, X<Y, ‖Δ‖²+, DX,DY: 100.0% correct in 16s (N=99.28, diam=6.18)\n",
      "DONE 25/60: n=100, p=0.05, max_iter=100, inj→non, X<Y, ‖e^|Δ|‖_1, AX,AY: 62.0% correct in 80s (N=99.28, diam=6.18)\n",
      "DONE 26/60: n=100, p=0.05, max_iter=100, inj→non, X<Y, ‖e^|Δ|‖_1, DX,DY: 92.0% correct in 43s (N=99.28, diam=6.18)\n",
      "DONE 27/60: n=100, p=0.05, max_iter=100, inj→non, X<Y, ‖Δ‖²→‖e^|Δ|‖, AX,AY: 0.0% correct in 75s (N=99.28, diam=6.18)\n",
      "DONE 28/60: n=100, p=0.05, max_iter=100, inj→non, X<Y, ‖Δ‖²→‖e^|Δ|‖, DX,DY: 0.0% correct in 73s (N=99.28, diam=6.18)\n",
      "DONE 29/60: n=100, p=0.05, max_iter=100, inj→non, X<Y, ‖Δ‖²+→‖e^|Δ|‖, AX,AY: 74.0% correct in 84s (N=99.28, diam=6.18)\n",
      "DONE 30/60: n=100, p=0.05, max_iter=100, inj→non, X<Y, ‖Δ‖²+→‖e^|Δ|‖, DX,DY: 100.0% correct in 18s (N=99.28, diam=6.18)\n",
      "DONE 31/60: n=100, p=0.05, max_iter=100, inj, X<Y, ‖Δ‖², AX,AY: 0.0% correct in 16s (N=99.28, diam=6.18)\n",
      "DONE 32/60: n=100, p=0.05, max_iter=100, inj, X<Y, ‖Δ‖², DX,DY: 0.0% correct in 4s (N=99.28, diam=6.18)\n",
      "DONE 33/60: n=100, p=0.05, max_iter=100, inj, X<Y, ‖Δ‖²+, AX,AY: 80.0% correct in 70s (N=99.28, diam=6.18)\n",
      "DONE 34/60: n=100, p=0.05, max_iter=100, inj, X<Y, ‖Δ‖²+, DX,DY: 100.0% correct in 15s (N=99.28, diam=6.18)\n",
      "DONE 35/60: n=100, p=0.05, max_iter=100, inj, X<Y, ‖e^|Δ|‖_1, AX,AY: 60.0% correct in 58s (N=99.28, diam=6.18)\n",
      "DONE 36/60: n=100, p=0.05, max_iter=100, inj, X<Y, ‖e^|Δ|‖_1, DX,DY: 26.0% correct in 32s (N=99.28, diam=6.18)\n",
      "SKIPPING 37 n=100, p=0.05, max_iter=100, inj, X<Y, ‖Δ‖²→‖e^|Δ|‖, AX,AY: ----------\n",
      "SKIPPING 38 n=100, p=0.05, max_iter=100, inj, X<Y, ‖Δ‖²→‖e^|Δ|‖, DX,DY: ----------\n",
      "DONE 39/60: n=100, p=0.05, max_iter=100, inj, X<Y, ‖Δ‖²+→‖e^|Δ|‖, AX,AY: 80.0% correct in 71s (N=99.28, diam=6.18)\n",
      "DONE 40/60: n=100, p=0.05, max_iter=100, inj, X<Y, ‖Δ‖²+→‖e^|Δ|‖, DX,DY: 100.0% correct in 16s (N=99.28, diam=6.18)\n",
      "DONE 41/60: n=500, p=0.01, max_iter=100, inj→non, X<Y, ‖Δ‖², AX,AY: 0.0% correct in 2158s (N=496.48, diam=8.06)\n",
      "DONE 42/60: n=500, p=0.01, max_iter=100, inj→non, X<Y, ‖Δ‖², DX,DY: 0.0% correct in 1232s (N=496.48, diam=8.06)\n"
     ]
    }
   ],
   "source": [
    "verbose = False\n",
    "N = 50 # number of graphs in one dataset\n",
    "i = 0\n",
    "size_diff_rel = .5\n",
    "ns = [10, 100, 500] # [10]\n",
    "ps = [.25, .05, .01] # [.1]\n",
    "max_iters = [100]\n",
    "injs = [0, 1]\n",
    "sizes = [1]\n",
    "f_types = ['sq', 'sq+', 'exp', 'mix', 'mix+']\n",
    "mx_types = [0, 1]\n",
    "n_combinations = len(ns) * len(max_iters) * len(injs) * len(sizes) * len(f_types) * len(mx_types)\n",
    "for n, p in zip(ns, ps): \n",
    "    As = []\n",
    "    Ds = []\n",
    "    pi_YXs = []\n",
    "    for _ in range(N):\n",
    "        A, D = generate_graph(n, p, enforce_n=False)\n",
    "        As.append(A)\n",
    "        Ds.append(D)\n",
    "        pi_YXs.append(np.random.permutation(len(A)))\n",
    "    \n",
    "    for max_iter, inj, size, f_type, mx_type in product(max_iters, injs, sizes, f_types, mx_types):\n",
    "        i += 1\n",
    "        \n",
    "        perf_key = n, p, max_iter, inj, size, f_type, mx_type\n",
    "        if perf_key in performance or (f_type == 'mix' and inj != 0):\n",
    "            print(f'SKIPPING {i}', compile_performance(*perf_key))\n",
    "            continue\n",
    "        \n",
    "        start = time.time()\n",
    "        exact_XY = []\n",
    "#         exact_YX = []\n",
    "        for _, (AX, DX, pi_YX) in enumerate(zip(As, Ds, pi_YXs)):\n",
    "            if size == 1:\n",
    "                size_diff = round(size_diff_rel * len(AX))\n",
    "                AY_ = AX[np.ix_(pi_YX, pi_YX)]\n",
    "                AY = np.zeros((len(AX) + size_diff, len(AX) + size_diff))\n",
    "                AY[:len(AX), :len(AX)] = AY_\n",
    "                AY[len(AX):, :] = AY[:, len(AX):] = DX.max() # to guarantee compliance with triangle ineq.\n",
    "                AY[np.arange(size_diff) + len(AX), np.arange(size_diff) + len(AX)] = 0\n",
    "                DY = sps.csgraph.shortest_path(AY, directed=False)\n",
    "                assert np.all(DY[:len(AX), :len(AX)] == DX[np.ix_(pi_YX, pi_YX)]), 'Y violates triangle inequality'\n",
    "            elif size == 0:\n",
    "                AY = AX[np.ix_(pi_YX, pi_YX)]\n",
    "                DY = DX[np.ix_(pi_YX, pi_YX)]\n",
    "                \n",
    "            if mx_type == 0:\n",
    "                X, Y = AX, AY\n",
    "            elif mx_type == 1:\n",
    "                X, Y = DX, DY\n",
    "            \n",
    "            inj_ub_XY, ub_XY, Pi_XY = find_ub_XY(X, Y, DX, DY, f_type, max_iter, inj, verbose)\n",
    "        #     if ub_XY > inj_ub_XY:\n",
    "        #         print('#{}: ub_XY > inj_ub_XY ({} > {})'.format(i, ub_XY, inj_ub_XY))\n",
    "#             inj_ub_YX, ub_YX, Pi_YX = find_ub_XY(AY, AX, DY, DX, 'norm2(Delta)', inj, False)\n",
    "        #     if ub_YX > inj_ub_YX:\n",
    "        #         print('#{}: ub_YX > inj_ub_YX ({} > {})'.format(i, ub_YX, inj_ub_YX))\n",
    "\n",
    "            exact_XY.append((inj_ub_XY if inj == 1 else ub_XY) == 0)\n",
    "#             exact_YX.append(ub_YX == 0)\n",
    "\n",
    "#             if i+1 >= n:\n",
    "#                 break\n",
    "\n",
    "        exact_XY = np.array(exact_XY)\n",
    "    \n",
    "        performance[perf_key] = {'acc': exact_XY.mean(), 'time': time.time() - start,\n",
    "                                 'order': np.mean([len(A) for A in As]), 'diam': np.mean([D.max() for D in Ds])}\n",
    "#         exact_YX = np.array(exact_YX)\n",
    "#         print('exact: XY {}, YX {}, XY & YX {} ({}s, {} pairs of avg.order {} and avg.diam {})'.format(\n",
    "#             exact_XY.mean(), exact_YX.mean(), np.mean(exact_XY & exact_YX), round(time.time() - start, 2),\n",
    "#             n, np.mean([len(A) for A in As[:n]]), np.mean([D.max() for D in Ds[:n]])))\n",
    "\n",
    "        print(f'DONE {i}/{n_combinations}:', compile_performance(*perf_key))\n"
   ]
  },
  {
   "cell_type": "code",
   "execution_count": 1005,
   "metadata": {},
   "outputs": [],
   "source": [
    "ks = performance.copy()\n",
    "for n, p, max_iter, inj, size, f_type, mx_type in ks:\n",
    "    if size == 1:#f_type == 'sq+' or n == 10:\n",
    "        del performance[n, p, max_iter, inj, size, f_type, mx_type]"
   ]
  },
  {
   "cell_type": "code",
   "execution_count": 980,
   "metadata": {},
   "outputs": [
    {
     "name": "stdout",
     "output_type": "stream",
     "text": [
      "n=10, p=0.25, max_iter=100, inj→non, X<Y, ‖e^|Δ|‖_1, AX,AY: 0.0% correct in 0s (N=8.7, diam=3.96)\n",
      "n=10, p=0.25, max_iter=100, inj→non, X<Y, ‖e^|Δ|‖_1, DX,DY: 0.0% correct in 0s (N=8.7, diam=3.96)\n",
      "n=10, p=0.25, max_iter=100, inj→non, X<Y, ‖Δ‖²→‖e^|Δ|‖, AX,AY: 0.0% correct in 0s (N=8.84, diam=4.04)\n",
      "n=10, p=0.25, max_iter=100, inj→non, X<Y, ‖Δ‖²→‖e^|Δ|‖, DX,DY: 0.0% correct in 0s (N=8.84, diam=4.04)\n",
      "n=10, p=0.25, max_iter=100, inj→non, X<Y, ‖Δ‖², AX,AY: 0.0% correct in 0s (N=8.92, diam=4.3)\n",
      "n=10, p=0.25, max_iter=100, inj→non, X<Y, ‖Δ‖², DX,DY: 0.0% correct in 0s (N=8.92, diam=4.3)\n",
      "n=10, p=0.25, max_iter=100, inj→non, X<Y, ‖Δ‖²+, AX,AY: 0.0% correct in 6s (N=8.92, diam=4.3)\n",
      "n=10, p=0.25, max_iter=100, inj→non, X<Y, ‖Δ‖²+, DX,DY: 0.0% correct in 0s (N=8.92, diam=4.3)\n",
      "n=10, p=0.25, max_iter=100, inj, X<Y, ‖e^|Δ|‖_1, AX,AY: 0.0% correct in 0s (N=8.7, diam=3.96)\n",
      "n=10, p=0.25, max_iter=100, inj, X<Y, ‖e^|Δ|‖_1, DX,DY: 0.0% correct in 0s (N=8.7, diam=3.96)\n",
      "n=10, p=0.25, max_iter=100, inj, X<Y, ‖Δ‖², AX,AY: 0.0% correct in 0s (N=8.92, diam=4.3)\n",
      "n=10, p=0.25, max_iter=100, inj, X<Y, ‖Δ‖², DX,DY: 0.0% correct in 0s (N=8.92, diam=4.3)\n",
      "n=10, p=0.25, max_iter=100, inj, X<Y, ‖Δ‖²+, AX,AY: 0.0% correct in 3s (N=8.92, diam=4.3)\n",
      "n=10, p=0.25, max_iter=100, inj, X<Y, ‖Δ‖²+, DX,DY: 0.0% correct in 0s (N=8.92, diam=4.3)\n",
      "n=100, p=0.05, max_iter=100, inj→non, X<Y, ‖e^|Δ|‖_1, AX,AY: 0.0% correct in 31s (N=99.42, diam=6.04)\n",
      "n=100, p=0.05, max_iter=100, inj→non, X<Y, ‖e^|Δ|‖_1, DX,DY: 0.0% correct in 5s (N=99.42, diam=6.04)\n",
      "n=100, p=0.05, max_iter=100, inj→non, X<Y, ‖Δ‖²→‖e^|Δ|‖, AX,AY: 0.0% correct in 14s (N=99.18, diam=6.06)\n",
      "n=100, p=0.05, max_iter=100, inj→non, X<Y, ‖Δ‖²→‖e^|Δ|‖, DX,DY: 0.0% correct in 2s (N=99.18, diam=6.06)\n",
      "n=100, p=0.05, max_iter=100, inj→non, X<Y, ‖Δ‖², AX,AY: 0.0% correct in 8s (N=99.44, diam=6.1)\n",
      "n=100, p=0.05, max_iter=100, inj→non, X<Y, ‖Δ‖², DX,DY: 0.0% correct in 1s (N=99.44, diam=6.1)\n",
      "n=100, p=0.05, max_iter=100, inj→non, X<Y, ‖Δ‖²+, AX,AY: 0.0% correct in 52s (N=99.44, diam=6.1)\n",
      "n=100, p=0.05, max_iter=100, inj→non, X<Y, ‖Δ‖²+, DX,DY: 0.0% correct in 1s (N=99.44, diam=6.1)\n",
      "n=100, p=0.05, max_iter=100, inj, X<Y, ‖e^|Δ|‖_1, AX,AY: 0.0% correct in 22s (N=99.42, diam=6.04)\n",
      "n=100, p=0.05, max_iter=100, inj, X<Y, ‖e^|Δ|‖_1, DX,DY: 0.0% correct in 4s (N=99.42, diam=6.04)\n",
      "n=100, p=0.05, max_iter=100, inj, X<Y, ‖Δ‖², AX,AY: 0.0% correct in 6s (N=99.44, diam=6.1)\n",
      "n=100, p=0.05, max_iter=100, inj, X<Y, ‖Δ‖², DX,DY: 0.0% correct in 1s (N=99.44, diam=6.1)\n",
      "n=100, p=0.05, max_iter=100, inj, X<Y, ‖Δ‖²+, AX,AY: 0.0% correct in 38s (N=99.44, diam=6.1)\n",
      "n=100, p=0.05, max_iter=100, inj, X<Y, ‖Δ‖²+, DX,DY: 0.0% correct in 1s (N=99.44, diam=6.1)\n"
     ]
    }
   ],
   "source": [
    "#for n, p, max_iter, inj, size, f_type, mx_type in product(ns, ps, max_iters, injs, sizes, f_types, mx_types):\n",
    "#    print(compile_performance(n, p, max_iter, inj, size, f_type, mx_type))\n",
    "for n, p, max_iter, inj, size, f_type, mx_type in sorted(performance.keys()):\n",
    "    if size == 1:\n",
    "    #if n == 100 and f_type == 'sq':\n",
    "        print(compile_performance(n, p, max_iter, inj, size, f_type, mx_type))\n"
   ]
  },
  {
   "cell_type": "code",
   "execution_count": null,
   "metadata": {},
   "outputs": [],
   "source": [
    "'''\n",
    "n=100, p=0.05, max_iter=100, inj, X=Y, ‖Δ‖², AX & AY: 48.0% correct in 4s\n",
    "n=100, p=0.05, max_iter=100, inj, X=Y, ‖Δ‖², DX & DY: 100.0% correct in 1s\n",
    "n=100, p=0.05, max_iter=100, inj, X=Y, ‖e^|Δ|‖_1, AX & AY: 60.0% correct in 15s\n",
    "n=100, p=0.05, max_iter=100, inj, X=Y, ‖e^|Δ|‖_1, DX & DY: 30.0% correct in 15s\n",
    "n=500, p=0.05, max_iter=100, inj, X=Y, ‖Δ‖², AX & AY: 98.0% correct in 75s\n",
    "n=500, p=0.05, max_iter=100, inj, X=Y, ‖Δ‖², DX & DY: 100.0% correct in 29s\n",
    "n=500, p=0.05, max_iter=100, inj, X=Y, ‖e^|Δ|‖_1, AX & AY: 86.0% correct in 402s\n",
    "n=500, p=0.05, max_iter=100, inj, X=Y, ‖e^|Δ|‖_1, DX & DY: 100.0% correct in 169s\n",
    "n=10, p=0.1, max_iter=100, inj, X=Y, ‖Δ‖², AX & AY: 88.0% correct in 0s\n",
    "n=10, p=0.1, max_iter=100, inj, X=Y, ‖Δ‖², DX & DY: 90.0% correct in 0s\n",
    "n=10, p=0.1, max_iter=100, inj, X=Y, ‖e^|Δ|‖_1, AX & AY: 90.0% correct in 0s\n",
    "n=10, p=0.1, max_iter=100, inj, X=Y, ‖e^|Δ|‖_1, DX & DY: 86.0% correct in 0s\n",
    "'''"
   ]
  },
  {
   "cell_type": "code",
   "execution_count": 597,
   "metadata": {},
   "outputs": [],
   "source": [
    "AX0, DX0, pi_YX0 = AX.copy(), DX.copy(), pi_YX.copy() # conserve problematic combination (AX,AY work but DX,DY don't on 'sq', inj=1)"
   ]
  },
  {
   "cell_type": "code",
   "execution_count": 926,
   "metadata": {},
   "outputs": [],
   "source": [
    "AX, DX, pi_YX = AX0.copy(), DX0.copy(), pi_YX0.copy() # restore the problematic combination\n",
    "n = len(AX)\n",
    "AY_ = AX[np.ix_(pi_YX, pi_YX)]\n",
    "DY_ = DX[np.ix_(pi_YX, pi_YX)]\n",
    "AY = np.zeros((n + 1, n + 1))\n",
    "AY[:n, :n] = AY_\n",
    "AY[n - 1, n] = AY[n, n - 1] = .1\n",
    "DY = sps.csgraph.shortest_path(AY, directed=False)"
   ]
  },
  {
   "cell_type": "code",
   "execution_count": 683,
   "metadata": {},
   "outputs": [],
   "source": [
    "AX, DX = generate_graph(20, .1, enforce_n=True) # generate a combination\n",
    "n = len(AX)\n",
    "pi_YX = np.random.permutation(n)\n",
    "AY_ = AX[np.ix_(pi_YX, pi_YX)]\n",
    "DY_ = DX[np.ix_(pi_YX, pi_YX)]\n",
    "AY = np.zeros((n + 1, n + 1))\n",
    "AY[:n, :n] = AY_\n",
    "AY[n - 1, n] = AY[n, n - 1] = .1\n",
    "DY = sps.csgraph.shortest_path(AY, directed=False)"
   ]
  },
  {
   "cell_type": "code",
   "execution_count": 944,
   "metadata": {},
   "outputs": [
    {
     "name": "stdout",
     "output_type": "stream",
     "text": [
      "----------INIT dis(P)=3.5782312925170063, dis_l2(P)=596.5024758202601, dis(Pi)=6.0,dis_l2(Pi)=596.5024758202601, f(P)=-1156.7487620898696\n",
      "iter 0: dis(P)=2.565446928251457, dis_l2(P)=251.9854858550616, dis(Pi)=3.0,dis_l2(Pi)=251.9854858550616, f(P)=-1329.0072570724694, α=[0.82685087], ‖∇f‖²=934176.79,‖α*dQP‖²=13.02 \n",
      "----------STOP α=[0.], ‖∇f‖²=5578313.54, ‖α*dQP‖²=0.00 \n"
     ]
    },
    {
     "data": {
      "text/plain": [
       "(1.5,\n",
       " nan,\n",
       " array([18,  0, 17,  3,  6,  5, 10, 13, 20,  7,  1, 12,  9, 14,  4, 15,  8,\n",
       "         2, 11, 16]))"
      ]
     },
     "execution_count": 944,
     "metadata": {},
     "output_type": "execute_result"
    }
   ],
   "source": [
    "#find_ub_XY(DX, DY, partial(dis, DX=DX, DY=DY), 1, 100, 0, True)\n",
    "#_,_,Pi = find_ub_XY(DY, DX, partial(dis, DX=DY, DY=DX), 1, 100, 1, True)\n",
    "#dis(Pi[[0, 1, 2, 3, 4, 5, 6, 7]], DY, DX), Pi\n",
    "\n",
    "inj_ub, ub, Pi_from_center = find_ub_XY(DX, DY, DX, DY, 'sq+', 100, 1, True)\n",
    "# Pi_correct=[18,  0,  5, 14,  6, 17,  3, 11, 19,  7,  1, 12,  9, 10, 13, 15,  8, 2,  4, 16]\n",
    "# pi_XY==Pi_correct for DX, DY_\n",
    "inj_ub, ub, Pi2pi(Pi_from_center)#, dis(Pi_XY, DX, DY)"
   ]
  },
  {
   "cell_type": "code",
   "execution_count": 945,
   "metadata": {},
   "outputs": [
    {
     "data": {
      "text/plain": [
       "array([18,  0,  5, 14,  6, 17,  3, 11, 19,  7,  1, 12,  9, 10, 13, 15,  8,\n",
       "        2,  4, 16])"
      ]
     },
     "execution_count": 945,
     "metadata": {},
     "output_type": "execute_result"
    }
   ],
   "source": [
    "Pi0 = pi2Pi(np.argsort(pi_YX), len(DY)) # correct mapping X → Y (dis = 0)\n",
    "Pi = Pi_from_center\n",
    "Pi2pi(Pi0)"
   ]
  },
  {
   "cell_type": "code",
   "execution_count": 532,
   "metadata": {},
   "outputs": [
    {
     "data": {
      "text/plain": [
       "'\\n!! why correct Pi_XY is not a local minimum for ‖Δ‖² on DX, DY and injections (but it is on AX, AY)?\\nIs it because P.T@P != I (since |DY| > |DX|) and even for injective mapping:\\nargmin ‖DX - P@DY@P.T‖² = argmin -2<P, DX@P@DY> + ‖P@DY@P.T‖² != argmin -<P, DX@P@DY>\\n?\\n'"
      ]
     },
     "execution_count": 532,
     "metadata": {},
     "output_type": "execute_result"
    }
   ],
   "source": [
    "'''\n",
    "[Pi0 = correct, Pi = obtained from F-W minimization (‖Δ‖², DX, DY, injections)] with no initialization\n",
    "\n",
    "!!!! why Pi0 is not a local minimum for ‖Δ‖² on DX, DY and injections (but it is on AX, AY)?\n",
    "Is it because P.T@P != I (since |Y| > |X|) and even for injective mapping:\n",
    "argmin ‖DX - P@DY@P.T‖² = argmin -2<P, DX@P@DY> + ‖P@DY@P.T‖² != argmin -<P, DX@P@DY>\n",
    "?\n",
    "\n",
    "If so, then -<Pi, DX@Pi@DY> is less than -<Pi0, DX@Pi0@DY>, but ‖Pi0@DY@Pi0.T‖² ≥ ‖Pi@DY@Pi.T‖²\n",
    "SEEMS NOT (b/c -<Pi, DX@Pi@DY> ≥ -<Pi0, DX@Pi0@DY>) BUT THE ABOVE MIGHT BE THE REASON TO NOT USE 'sq' (or 'mix')\n",
    "for spaces of different sizes !!\n",
    "\n",
    "UPD:\n",
    " - when no initial guess (i.e. it's the barycenter), F-W ends up in local minimum Pi (== Pi_from_center)\n",
    " - when initialized with Pi0, F-W ends up in Pi_from_Pi0 due to non-inj and\n",
    "     argmin ‖DX - P@DY@P.T‖² != argmin -<P, DX@P@DY>\n",
    "'''\n"
   ]
  },
  {
   "cell_type": "code",
   "execution_count": 619,
   "metadata": {},
   "outputs": [
    {
     "name": "stdout",
     "output_type": "stream",
     "text": [
      "-<Pi, DX@Pi@DY>=-3408.6, -<Pi0, DX@Pi0@DY>=-3204.0, ‖Pi@DY@Pi.T‖²=4650.78, ‖Pi0@DY@Pi0.T‖²=4594.0\n",
      "-<Pi, AX@Pi@AY>=-22.0, -<Pi0, AX@Pi0@AY>=-10.0, ‖Pi@AY@Pi.T‖²=38.019999999999996, ‖Pi0@AY@Pi0.T‖²=46.0\n"
     ]
    },
    {
     "data": {
      "text/plain": [
       "(-2166.42, -1814.0)"
      ]
     },
     "execution_count": 619,
     "metadata": {},
     "output_type": "execute_result"
    }
   ],
   "source": [
    "print('-<Pi, DX@Pi@DY>={}, -<Pi0, DX@Pi0@DY>={}, ‖Pi@DY@Pi.T‖²={}, ‖Pi0@DY@Pi0.T‖²={}'.format(\n",
    "    np.sum(Pi * (-DX@Pi@DY)), np.sum(Pi0 * (-DX@Pi0@DY)),\n",
    "    np.sum((Pi@DY@Pi.T)**2), np.sum((Pi0@DY@Pi0.T)**2)\n",
    "))\n",
    "print('-<Pi, AX@Pi@AY>={}, -<Pi0, AX@Pi0@AY>={}, ‖Pi@AY@Pi.T‖²={}, ‖Pi0@AY@Pi0.T‖²={}'.format(\n",
    "    np.sum(Pi * (-AX@Pi@AY)), np.sum(Pi0 * (-AX@Pi0@AY)),\n",
    "    np.sum((Pi@AY@Pi.T)**2), np.sum((Pi0@AY@Pi0.T)**2)\n",
    "))\n",
    "2*np.sum(Pi * (-DX@Pi@DY)) + np.sum((Pi@DY@Pi.T)**2), 2*np.sum(Pi0 * (-DX@Pi0@DY)) + np.sum((Pi0@DY@Pi0.T)**2)"
   ]
  },
  {
   "cell_type": "code",
   "execution_count": 950,
   "metadata": {},
   "outputs": [
    {
     "name": "stdout",
     "output_type": "stream",
     "text": [
      "----------INIT dis(P)=0.0, dis_l2(P)=0.0, dis(Pi)=0.0,dis_l2(Pi)=0.0, f(P)=-2910.0\n",
      "iter 0: dis(P)=2.0, dis_l2(P)=73.18, dis(Pi)=2.0,dis_l2(Pi)=73.18, f(P)=-2952.2000000000003, α=[1.], ‖∇f‖²=26206538.40,‖α*dQP‖²=6.00 \n",
      "----------STOP α=[0.5], ‖∇f‖²=26771558.52, ‖α*dQP‖²=0.00 \n",
      "2.0 0.0 -2952.2000000000003 -2910.0\n"
     ]
    },
    {
     "data": {
      "text/plain": [
       "(-2836.8200000000006, -2910.0)"
      ]
     },
     "execution_count": 950,
     "metadata": {},
     "output_type": "execute_result"
    }
   ],
   "source": [
    "# Shows that minimization diverges from initially correct mapping (this time it's b/c of |Y| > |X|:\n",
    "# argmin ‖DX - P@DY@P.T‖² = argmin -2<P, DX@P@DY> + ‖P@DY@P.T‖² != argmin -<P, DX@P@DY>).\n",
    "# Using 'sq+' instead of 'sq' seems to fix it.\n",
    "f, grad_f, alpha_jac, alpha_hess = def_functions_for_frank_wolfe(DX, DY, 'sq')\n",
    "dis_ = partial(dis, DX=DX, DY=DY)\n",
    "dis_l2_ = partial(dis_l2, DX=DX, DY=DY)\n",
    "Pi_from_Pi0 = minimize_over_Pi(\n",
    "    len(DX), len(DY), f, grad_f, alpha_jac, alpha_hess, dis_, dis_l2_,\n",
    "    P0=Pi0,\n",
    "    max_iter=max_iter, is_inj=True, verbose=True)\n",
    "print(dis_(Pi_from_Pi0), dis_(Pi0), np.sum(Pi_from_Pi0 * (-DX@Pi_from_Pi0@DY)), np.sum(Pi0 * (-DX@Pi0@DY)))\n",
    "2*np.sum(Pi_from_Pi0 * (-DX@Pi_from_Pi0@DY)) + np.sum((Pi_from_Pi0@DY@Pi_from_Pi0.T)**2), 2*np.sum(Pi0 * (-DX@Pi0@DY)) + np.sum((Pi0@DY@Pi0.T)**2)"
   ]
  },
  {
   "cell_type": "code",
   "execution_count": 581,
   "metadata": {},
   "outputs": [
    {
     "data": {
      "text/plain": [
       "(array([18,  0,  5, 14,  6, 17,  3, 11, 20, 13,  1, 12,  9, 10, 19, 15,  8,\n",
       "         2,  4, 16]),\n",
       " array([20,  0,  5, 14,  6, 17,  3, 11, 18, 19,  1, 12,  9, 10, 13, 15,  8,\n",
       "         2,  4, 16]))"
      ]
     },
     "execution_count": 581,
     "metadata": {},
     "output_type": "execute_result"
    }
   ],
   "source": [
    "Pi2pi(Pi), Pi2pi(Pi_XY)"
   ]
  },
  {
   "cell_type": "code",
   "execution_count": 662,
   "metadata": {},
   "outputs": [
    {
     "name": "stdout",
     "output_type": "stream",
     "text": [
      "----------INIT dis(P)=4.10, dis(Pi)=4.1, f(P)=-2870.2\n",
      "----------STOP α=[0.5], ‖∇f‖²=26643304.84, ‖α*dQP‖²=0.00 \n",
      "4.1 0.0 -2870.2 -2910.0\n"
     ]
    }
   ],
   "source": [
    "f, grad_f, alpha_jac, alpha_hess = def_functions_for_frank_wolfe(DX, DY, 'sq')\n",
    "dis_ = partial(dis, DX=DX, DY=DY)\n",
    "Pi = minimize_over_Pi(\n",
    "    len(DX), len(DY), f, grad_f, alpha_jac, alpha_hess, dis_,\n",
    "    P0=Pi_from_center,\n",
    "    max_iter=max_iter, is_inj=True, verbose=True)\n",
    "print(dis_(Pi), dis_(Pi0), np.sum(Pi * (-DX@Pi@DY)), np.sum(Pi0 * (-DX@Pi0@DY)))"
   ]
  }
 ],
 "metadata": {
  "kernelspec": {
   "display_name": "Python 3",
   "language": "python",
   "name": "python3"
  },
  "language_info": {
   "codemirror_mode": {
    "name": "ipython",
    "version": 3
   },
   "file_extension": ".py",
   "mimetype": "text/x-python",
   "name": "python",
   "nbconvert_exporter": "python",
   "pygments_lexer": "ipython3",
   "version": "3.7.6"
  }
 },
 "nbformat": 4,
 "nbformat_minor": 4
}
